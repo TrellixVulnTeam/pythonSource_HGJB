{
 "cells": [
  {
   "cell_type": "code",
   "execution_count": 1,
   "metadata": {},
   "outputs": [],
   "source": [
    "#리스트 생성 - 다양한 타입을 담을 수 있음\n",
    "\n",
    "list1 = []\n",
    "list2 = ['a','b','c']\n",
    "list3 = ['a','b','c',1,2]\n",
    "list4 = [1,2,3,4,5.5,6.5]\n",
    "list5 = [1,2,['Life','is','short']]"
   ]
  },
  {
   "cell_type": "code",
   "execution_count": 2,
   "metadata": {},
   "outputs": [
    {
     "name": "stdout",
     "output_type": "stream",
     "text": [
      "[]\n",
      "['a', 'b', 'c']\n",
      "['a', 'b', 'c', 1, 2]\n",
      "[1, 2, 3, 4, 5.5, 6.5]\n",
      "[1, 2, ['Life', 'is', 'short']]\n"
     ]
    }
   ],
   "source": [
    "# 리스트 사용\n",
    "\n",
    "print(list1)\n",
    "print(list2)\n",
    "print(list3)\n",
    "print(list4)\n",
    "print(list5)"
   ]
  },
  {
   "cell_type": "code",
   "execution_count": 3,
   "metadata": {},
   "outputs": [
    {
     "name": "stdout",
     "output_type": "stream",
     "text": [
      "list2[2]= c\n",
      "list3[4]= 2\n",
      "list5[2]= ['Life', 'is', 'short']\n",
      "list4[-1]=  6.5\n"
     ]
    }
   ],
   "source": [
    "# 인덱싱\n",
    "\n",
    "print(\"list2[2]=\",list2[2])\n",
    "print(\"list3[4]=\",list3[4])\n",
    "print(\"list5[2]=\",list5[2])\n",
    "print(\"list4[-1]= \",list4[-1])"
   ]
  },
  {
   "cell_type": "code",
   "execution_count": 4,
   "metadata": {},
   "outputs": [
    {
     "name": "stdout",
     "output_type": "stream",
     "text": [
      "list5[2][0] =  Life\n"
     ]
    }
   ],
   "source": [
    "print(\"list5[2][0] = \",list5[2][0])"
   ]
  },
  {
   "cell_type": "code",
   "execution_count": 5,
   "metadata": {},
   "outputs": [
    {
     "name": "stdout",
     "output_type": "stream",
     "text": [
      "list5[-1][2] =  short\n"
     ]
    }
   ],
   "source": [
    "print(\"list5[-1][2] = \",list5[-1][2])"
   ]
  },
  {
   "cell_type": "code",
   "execution_count": 10,
   "metadata": {},
   "outputs": [
    {
     "name": "stdout",
     "output_type": "stream",
     "text": [
      "list6[-1][-1][1]= is\n"
     ]
    }
   ],
   "source": [
    "list6=[1,2,['a','b',['life','is']]]\n",
    "\n",
    "# is 출력하기\n",
    "\n",
    "print(\"list6[-1][-1][1]=\",list6[-1][-1][1])"
   ]
  },
  {
   "cell_type": "code",
   "execution_count": 6,
   "metadata": {},
   "outputs": [
    {
     "name": "stdout",
     "output_type": "stream",
     "text": [
      "[1, 2, 3, 4, 5, 6]\n",
      "[1, 2, 3, 'a', 'b', 'c']\n",
      "6\n"
     ]
    }
   ],
   "source": [
    "# 연산자 : +(연결),*(반복)\n",
    "\n",
    "a = [1,2,3]\n",
    "b = [4,5,6]\n",
    "c = ['a','b','c']\n",
    "\n",
    "print(a+b)\n",
    "print(a+c)\n",
    "print(a[0]+b[1])"
   ]
  },
  {
   "cell_type": "code",
   "execution_count": 7,
   "metadata": {},
   "outputs": [
    {
     "name": "stdout",
     "output_type": "stream",
     "text": [
      "[1, 2, 3, 1, 2, 3, 1, 2, 3]\n",
      "3\n"
     ]
    }
   ],
   "source": [
    "print(a*3)\n",
    "print(a[0]*3)"
   ]
  },
  {
   "cell_type": "code",
   "execution_count": 8,
   "metadata": {},
   "outputs": [
    {
     "name": "stdout",
     "output_type": "stream",
     "text": [
      "[1, 2, 3]\n",
      "[1, 7, 3]\n",
      "[1, 7, 'life']\n"
     ]
    }
   ],
   "source": [
    "print(a)\n",
    "a[1] = 7\n",
    "print(a)\n",
    "a[2] = 'life'\n",
    "print(a)"
   ]
  },
  {
   "cell_type": "code",
   "execution_count": 9,
   "metadata": {},
   "outputs": [
    {
     "ename": "TypeError",
     "evalue": "'str' object does not support item assignment",
     "output_type": "error",
     "traceback": [
      "\u001b[1;31m---------------------------------------------------------------------------\u001b[0m",
      "\u001b[1;31mTypeError\u001b[0m                                 Traceback (most recent call last)",
      "\u001b[1;32m<ipython-input-9-ac9927123f0d>\u001b[0m in \u001b[0;36m<module>\u001b[1;34m\u001b[0m\n\u001b[0;32m      1\u001b[0m \u001b[0mstr1\u001b[0m \u001b[1;33m=\u001b[0m\u001b[1;34m\"abcd\"\u001b[0m\u001b[1;33m\u001b[0m\u001b[1;33m\u001b[0m\u001b[0m\n\u001b[1;32m----> 2\u001b[1;33m \u001b[0mstr1\u001b[0m\u001b[1;33m[\u001b[0m\u001b[1;36m0\u001b[0m\u001b[1;33m]\u001b[0m \u001b[1;33m=\u001b[0m \u001b[1;34m'e'\u001b[0m\u001b[1;33m\u001b[0m\u001b[1;33m\u001b[0m\u001b[0m\n\u001b[0m",
      "\u001b[1;31mTypeError\u001b[0m: 'str' object does not support item assignment"
     ]
    }
   ],
   "source": [
    "str1 =\"abcd\"\n",
    "str1[0] = 'e'"
   ]
  },
  {
   "cell_type": "code",
   "execution_count": 10,
   "metadata": {},
   "outputs": [
    {
     "name": "stdout",
     "output_type": "stream",
     "text": [
      "[4, 5, 6]\n",
      "[4, 10, 11, 6]\n"
     ]
    }
   ],
   "source": [
    "print(b)\n",
    "b[1:2] = [10,11]\n",
    "print(b)"
   ]
  },
  {
   "cell_type": "code",
   "execution_count": 11,
   "metadata": {},
   "outputs": [
    {
     "name": "stdout",
     "output_type": "stream",
     "text": [
      "[4, 10, 11, 6]\n",
      "[4, [15, 16, 17], 11, 6]\n"
     ]
    }
   ],
   "source": [
    "print(b)\n",
    "b[1] = [15,16,17]\n",
    "print(b)"
   ]
  },
  {
   "cell_type": "code",
   "execution_count": 12,
   "metadata": {},
   "outputs": [
    {
     "name": "stdout",
     "output_type": "stream",
     "text": [
      "[1, 7, 'life']\n",
      "[1, 'life']\n"
     ]
    }
   ],
   "source": [
    "print(a)\n",
    "del a[1]\n",
    "print(a)"
   ]
  },
  {
   "cell_type": "code",
   "execution_count": 13,
   "metadata": {},
   "outputs": [
    {
     "name": "stdout",
     "output_type": "stream",
     "text": [
      "[4, [15, 16, 17], 11, 6]\n",
      "[4, 6]\n"
     ]
    }
   ],
   "source": [
    "print(b)\n",
    "b[1:3] = []\n",
    "print(b)"
   ]
  },
  {
   "cell_type": "code",
   "execution_count": 15,
   "metadata": {},
   "outputs": [
    {
     "name": "stdout",
     "output_type": "stream",
     "text": [
      "273\n",
      "103\n",
      "5\n",
      "32\n",
      "65\n",
      "9\n",
      "72\n",
      "800\n",
      "99\n"
     ]
    }
   ],
   "source": [
    "numbers = [273,103,5,32,65,9,72,800,99]\n",
    "for num in numbers:\n",
    "    print(num)"
   ]
  },
  {
   "cell_type": "code",
   "execution_count": 16,
   "metadata": {},
   "outputs": [
    {
     "name": "stdout",
     "output_type": "stream",
     "text": [
      "273 는 홀수\n",
      "103 는 홀수\n",
      "5 는 홀수\n",
      "32 는 짝수\n",
      "65 는 홀수\n",
      "9 는 홀수\n",
      "72 는 짝수\n",
      "800 는 짝수\n",
      "99 는 홀수\n"
     ]
    }
   ],
   "source": [
    "# numbers 안의 숫자가 홀수인지 짝수인지 판별해서 출력하기\n",
    "for num in numbers:\n",
    "    if num % 2 == 0 : \n",
    "        print(\"%d 는 짝수\" % num)\n",
    "    else:\n",
    "        print(\"%d 는 홀수\" % num)"
   ]
  },
  {
   "cell_type": "code",
   "execution_count": 17,
   "metadata": {},
   "outputs": [
    {
     "name": "stdout",
     "output_type": "stream",
     "text": [
      "273 는 홀수\n",
      "103 는 홀수\n",
      "5 는 홀수\n",
      "32 는 짝수\n",
      "65 는 홀수\n",
      "9 는 홀수\n",
      "72 는 짝수\n",
      "800 는 짝수\n",
      "99 는 홀수\n"
     ]
    }
   ],
   "source": [
    "#선생님 방법\n",
    "for num in numbers:\n",
    "    if num % 2 ==0:\n",
    "        print(\"{} 는 짝수\".format(num))\n",
    "    else:\n",
    "        print(\"{} 는 홀수\".format(num))"
   ]
  },
  {
   "cell_type": "code",
   "execution_count": 15,
   "metadata": {},
   "outputs": [
    {
     "name": "stdout",
     "output_type": "stream",
     "text": [
      "273는 3 자리수\n",
      "103는 3 자리수\n",
      "5는 1 자리수\n",
      "32는 2 자리수\n",
      "65는 2 자리수\n",
      "9는 1 자리수\n",
      "72는 2 자리수\n",
      "800는 3 자리수\n",
      "99는 2 자리수\n"
     ]
    }
   ],
   "source": [
    "# numbers 안의 각 숫자들의 자릿수 출력하기\n",
    "for num in numbers:\n",
    "    print(\"%d는 %d 자리수\" % (num,len(str(num))))"
   ]
  },
  {
   "cell_type": "code",
   "execution_count": 21,
   "metadata": {},
   "outputs": [
    {
     "name": "stdout",
     "output_type": "stream",
     "text": [
      "1 2 3 4 5 6 7 8 9 "
     ]
    }
   ],
   "source": [
    "list_of_list = [[1,2,3],[4,5,6,7],[8,9]]\n",
    "\n",
    "# 1 2 3 4 5 6 7 8 9\n",
    "for list in list_of_list:\n",
    "    for num in list:\n",
    "        print(num,end=\" \")\n",
    "    "
   ]
  },
  {
   "cell_type": "markdown",
   "metadata": {},
   "source": [
    "### 리스트 관련 함수"
   ]
  },
  {
   "cell_type": "code",
   "execution_count": 23,
   "metadata": {},
   "outputs": [
    {
     "name": "stdout",
     "output_type": "stream",
     "text": [
      "[1, 2, 3, 4]\n"
     ]
    }
   ],
   "source": [
    "# append() : 리스트에 요소 추가 \n",
    "\n",
    "list1 = [1,2,3]\n",
    "list1.append(4)\n",
    "print(list1)"
   ]
  },
  {
   "cell_type": "code",
   "execution_count": 24,
   "metadata": {},
   "outputs": [
    {
     "name": "stdout",
     "output_type": "stream",
     "text": [
      "[1, 2, 3, 4, [5, 6]]\n"
     ]
    }
   ],
   "source": [
    "list1.append([5,6])\n",
    "print(list1)"
   ]
  },
  {
   "cell_type": "code",
   "execution_count": 25,
   "metadata": {},
   "outputs": [],
   "source": [
    "# list.append(5,6,7) TypeError"
   ]
  },
  {
   "cell_type": "code",
   "execution_count": 26,
   "metadata": {},
   "outputs": [
    {
     "name": "stdout",
     "output_type": "stream",
     "text": [
      "[2, 4, 6, 8, 10, 12, 14, 16, 18, 20, 22, 24, 26, 28, 30, 32, 34, 36, 38, 40, 42, 44, 46, 48, 50, 52, 54, 56, 58, 60, 62, 64, 66, 68, 70, 72, 74, 76, 78, 80, 82, 84, 86, 88, 90, 92, 94, 96, 98, 100]\n"
     ]
    }
   ],
   "source": [
    "even = []\n",
    "\n",
    "# 1~100까지 짝수만 even 에 추가한후 출력하기\n",
    "for i in range(1,101):\n",
    "    if i % 2 ==0:\n",
    "        even.append(i)\n",
    "print(even)"
   ]
  },
  {
   "cell_type": "code",
   "execution_count": 27,
   "metadata": {},
   "outputs": [
    {
     "name": "stdout",
     "output_type": "stream",
     "text": [
      "[25, 75, 15, 9, 6, 3, 36]\n",
      "[3, 6, 9, 15, 25, 36, 75]\n"
     ]
    }
   ],
   "source": [
    "# sort() : 오름차수정렬이라고 보면됨 \n",
    "\n",
    "list1 = [25,75,15,9,6,3,36]\n",
    "print(list1)\n",
    "list1.sort()\n",
    "print(list1)"
   ]
  },
  {
   "cell_type": "code",
   "execution_count": 28,
   "metadata": {},
   "outputs": [
    {
     "name": "stdout",
     "output_type": "stream",
     "text": [
      "['k', 'z', 'b', 'a', 'q', 'r']\n",
      "['a', 'b', 'k', 'q', 'r', 'z']\n"
     ]
    }
   ],
   "source": [
    "list2 = ['k','z','b','a','q','r']\n",
    "\n",
    "print(list2)\n",
    "list2.sort()\n",
    "print(list2)"
   ]
  },
  {
   "cell_type": "code",
   "execution_count": 30,
   "metadata": {},
   "outputs": [
    {
     "name": "stdout",
     "output_type": "stream",
     "text": [
      "['K', 'A', 'b', 'C', 'q', 'r']\n",
      "['A', 'C', 'K', 'b', 'q', 'r']\n"
     ]
    }
   ],
   "source": [
    "list3 = ['K','A','b','C','q','r']\n",
    "\n",
    "print(list3)\n",
    "list3.sort()\n",
    "print(list3)"
   ]
  },
  {
   "cell_type": "code",
   "execution_count": 18,
   "metadata": {},
   "outputs": [
    {
     "name": "stdout",
     "output_type": "stream",
     "text": [
      "['ㄷ', 'ㄱ', 'ㅎ', 'ㅋ', 'ㄴ']\n",
      "['ㄱ', 'ㄴ', 'ㄷ', 'ㅋ', 'ㅎ']\n"
     ]
    }
   ],
   "source": [
    "list4 = ['ㄷ','ㄱ','ㅎ','ㅋ','ㄴ']\n",
    "print(list4)\n",
    "list4.sort()\n",
    "print(list4)"
   ]
  },
  {
   "cell_type": "code",
   "execution_count": 19,
   "metadata": {},
   "outputs": [
    {
     "name": "stdout",
     "output_type": "stream",
     "text": [
      "['abc', 'tail', 'bcd', 'animal', 'korea']\n",
      "['abc', 'animal', 'bcd', 'korea', 'tail']\n"
     ]
    }
   ],
   "source": [
    "list5 = [\"abc\",\"tail\",\"bcd\",\"animal\",\"korea\"]\n",
    "print(list5)\n",
    "list5.sort()\n",
    "print(list5)"
   ]
  },
  {
   "cell_type": "code",
   "execution_count": 20,
   "metadata": {},
   "outputs": [
    {
     "name": "stdout",
     "output_type": "stream",
     "text": [
      "['K', 'A', 'b', 'C', 'q', 'r']\n",
      "['r', 'q', 'b', 'K', 'C', 'A']\n"
     ]
    }
   ],
   "source": [
    "list3 = ['K','A','b','C','q','r']\n",
    "\n",
    "print(list3)\n",
    "list3.sort(reverse=True)\n",
    "print(list3)"
   ]
  },
  {
   "cell_type": "code",
   "execution_count": 22,
   "metadata": {},
   "outputs": [
    {
     "name": "stdout",
     "output_type": "stream",
     "text": [
      "[25, 75, 15, 9, 6, 3, 36]\n",
      "[75, 36, 25, 15, 9, 6, 3]\n"
     ]
    }
   ],
   "source": [
    "#reverse() : 리스트 뒤집기\n",
    "\n",
    "list1 = [25,75,15,9,6,3,36]\n",
    "print(list1)\n",
    "list1.sort()\n",
    "list1.reverse()\n",
    "print(list1)"
   ]
  },
  {
   "cell_type": "code",
   "execution_count": 23,
   "metadata": {},
   "outputs": [
    {
     "data": {
      "text/plain": [
       "6"
      ]
     },
     "execution_count": 23,
     "metadata": {},
     "output_type": "execute_result"
    }
   ],
   "source": [
    "#index() : 위치 반환\n",
    "\n",
    "list1.index(3)"
   ]
  },
  {
   "cell_type": "code",
   "execution_count": 24,
   "metadata": {},
   "outputs": [
    {
     "ename": "ValueError",
     "evalue": "77 is not in list",
     "output_type": "error",
     "traceback": [
      "\u001b[1;31m---------------------------------------------------------------------------\u001b[0m",
      "\u001b[1;31mValueError\u001b[0m                                Traceback (most recent call last)",
      "\u001b[1;32m<ipython-input-24-582a668ce7a5>\u001b[0m in \u001b[0;36m<module>\u001b[1;34m\u001b[0m\n\u001b[1;32m----> 1\u001b[1;33m \u001b[0mlist1\u001b[0m\u001b[1;33m.\u001b[0m\u001b[0mindex\u001b[0m\u001b[1;33m(\u001b[0m\u001b[1;36m77\u001b[0m\u001b[1;33m)\u001b[0m\u001b[1;33m\u001b[0m\u001b[1;33m\u001b[0m\u001b[0m\n\u001b[0m",
      "\u001b[1;31mValueError\u001b[0m: 77 is not in list"
     ]
    }
   ],
   "source": [
    "list1.index(77) #없는것은 에러임"
   ]
  },
  {
   "cell_type": "code",
   "execution_count": 25,
   "metadata": {},
   "outputs": [
    {
     "name": "stdout",
     "output_type": "stream",
     "text": [
      "[12, 56, 13, 14, 15, 14]\n"
     ]
    }
   ],
   "source": [
    "# insert() : 특정 위치에 요소 삽입\n",
    "list2 =[12,13,14,15,14]\n",
    "list2.insert(1,56)\n",
    "print(list2)"
   ]
  },
  {
   "cell_type": "code",
   "execution_count": 27,
   "metadata": {},
   "outputs": [
    {
     "name": "stdout",
     "output_type": "stream",
     "text": [
      "[12, 14, 15, 14]\n",
      "[12, 15, 14]\n"
     ]
    }
   ],
   "source": [
    "# remove():리스트 요소 제거\n",
    "\n",
    "list5 = [12,13,14,15,14]\n",
    "list5.remove(13)\n",
    "print(list5)\n",
    "list5.remove(14)\n",
    "print(list5)"
   ]
  },
  {
   "cell_type": "code",
   "execution_count": 28,
   "metadata": {},
   "outputs": [
    {
     "name": "stdout",
     "output_type": "stream",
     "text": [
      "[12, 13, 14, 15, 16]\n",
      "[12, 13, 14, 15]\n"
     ]
    }
   ],
   "source": [
    "# pop() : 리스트 요소 중 맨 마지막 요소 꺼내기\n",
    "\n",
    "list5 = [12,13,14,15,16]\n",
    "print(list5)\n",
    "list5.pop()\n",
    "print(list5)"
   ]
  },
  {
   "cell_type": "code",
   "execution_count": 29,
   "metadata": {},
   "outputs": [
    {
     "name": "stdout",
     "output_type": "stream",
     "text": [
      "[12, 14, 15]\n"
     ]
    }
   ],
   "source": [
    "list5.pop(1)\n",
    "print(list5)"
   ]
  },
  {
   "cell_type": "code",
   "execution_count": 30,
   "metadata": {},
   "outputs": [
    {
     "name": "stdout",
     "output_type": "stream",
     "text": [
      "1\n"
     ]
    }
   ],
   "source": [
    "# count() : 리스트 요소 세기\n",
    "\n",
    "list5 = [1,2,3,4,5,6]\n",
    "print(list5.count(3))"
   ]
  },
  {
   "cell_type": "code",
   "execution_count": 31,
   "metadata": {},
   "outputs": [
    {
     "name": "stdout",
     "output_type": "stream",
     "text": [
      "[1, 2, 3, 4, 5, 6, 16, 17, 18]\n"
     ]
    }
   ],
   "source": [
    "# extend : 리스트 확장(+ 와 같은 결과)\n",
    "\n",
    "list5.extend([16,17,18])\n",
    "print(list5)"
   ]
  },
  {
   "cell_type": "code",
   "execution_count": 33,
   "metadata": {},
   "outputs": [
    {
     "name": "stdout",
     "output_type": "stream",
     "text": [
      "[]\n"
     ]
    }
   ],
   "source": [
    "# clear() : 리스트 요소 모두 삭제\n",
    "list5.clear()\n",
    "print(list5)"
   ]
  },
  {
   "cell_type": "code",
   "execution_count": 34,
   "metadata": {},
   "outputs": [
    {
     "name": "stdout",
     "output_type": "stream",
     "text": [
      "False\n"
     ]
    }
   ],
   "source": [
    "city = \"\"\n",
    "if city:\n",
    "    print(\"True\")\n",
    "else:\n",
    "    print(\"False\")"
   ]
  },
  {
   "cell_type": "code",
   "execution_count": 35,
   "metadata": {},
   "outputs": [
    {
     "name": "stdout",
     "output_type": "stream",
     "text": [
      "False\n"
     ]
    }
   ],
   "source": [
    "list1 = []\n",
    "if list1:\n",
    "    print(\"True\")\n",
    "else:\n",
    "    print(\"False\")"
   ]
  },
  {
   "cell_type": "code",
   "execution_count": 36,
   "metadata": {},
   "outputs": [
    {
     "name": "stdout",
     "output_type": "stream",
     "text": [
      "딸기 포함\n"
     ]
    }
   ],
   "source": [
    "fruit = [\"사과\",\"딸기\",\"배\",\"수박\"]\n",
    "if \"딸기\" in fruit:\n",
    "    print(\"딸기 포함\")\n",
    "else:\n",
    "    print(\"딸기 미 포함\")"
   ]
  },
  {
   "cell_type": "code",
   "execution_count": 37,
   "metadata": {},
   "outputs": [
    {
     "name": "stdout",
     "output_type": "stream",
     "text": [
      "(0, 23)\n",
      "(1, 12)\n",
      "(2, 36)\n",
      "(3, 53)\n",
      "(4, 19)\n"
     ]
    }
   ],
   "source": [
    "# enumerate : 인덱스 값 같이 가져옴\n",
    "\n",
    "arr = [23,12,36,53,19]\n",
    "\n",
    "for i in enumerate(arr):\n",
    "    print(i)"
   ]
  },
  {
   "cell_type": "code",
   "execution_count": 38,
   "metadata": {},
   "outputs": [
    {
     "name": "stdout",
     "output_type": "stream",
     "text": [
      "0 : 23\n",
      "1 : 12\n",
      "2 : 36\n",
      "3 : 53\n",
      "4 : 19\n"
     ]
    }
   ],
   "source": [
    "for idx, val in enumerate(arr):\n",
    "    print(\"%d : %d\" % (idx,val))"
   ]
  },
  {
   "cell_type": "code",
   "execution_count": 39,
   "metadata": {},
   "outputs": [
    {
     "name": "stdout",
     "output_type": "stream",
     "text": [
      "1 : 23\n",
      "2 : 12\n",
      "3 : 36\n",
      "4 : 53\n",
      "5 : 19\n"
     ]
    }
   ],
   "source": [
    "for idx, val in enumerate(arr,start=1):\n",
    "    print(\"%d : %d\" % (idx,val))"
   ]
  },
  {
   "cell_type": "code",
   "execution_count": 46,
   "metadata": {},
   "outputs": [
    {
     "name": "stdout",
     "output_type": "stream",
     "text": [
      "총 합계는: 776\n",
      "평균값은 : 77.6\n"
     ]
    }
   ],
   "source": [
    "# a학금에 총 10명의 학생이 있다. 이 학생들의 중간고사 점수는 다음과 같다\n",
    "\n",
    "# 70, 60, 55, 75, 95, 90, 80, 85, 100\n",
    "\n",
    "# a학급의 점수를 리스트로 생성하고 총 합과 평균을 구하시오.\n",
    "\n",
    "aClass = [70, 60, 55, 75, 95, 90, 80, 85, 100, 66]\n",
    "\n",
    "total=0\n",
    "\n",
    "for grade in aClass:\n",
    "    total += grade\n",
    "\n",
    "print(\"총 합계는: %d\" %total)\n",
    "print(\"평균값은 : {}\".format(total/len(aClass)))"
   ]
  },
  {
   "cell_type": "code",
   "execution_count": 47,
   "metadata": {},
   "outputs": [
    {
     "name": "stdout",
     "output_type": "stream",
     "text": [
      "a 학급의 총합 776 과 평균 :77.6\n"
     ]
    }
   ],
   "source": [
    "#선생님 방식\n",
    "# sum() : 합계\n",
    "print(\"a 학급의 총합 {} 과 평균 :{}\".format(sum(aClass),(sum(aClass)/len(aClass))))"
   ]
  },
  {
   "cell_type": "code",
   "execution_count": 48,
   "metadata": {},
   "outputs": [
    {
     "data": {
      "text/plain": [
       "97"
      ]
     },
     "execution_count": 48,
     "metadata": {},
     "output_type": "execute_result"
    }
   ],
   "source": [
    "ord('a') # 문자의 아스키 코드 값 돌려주는 함수"
   ]
  },
  {
   "cell_type": "code",
   "execution_count": 49,
   "metadata": {},
   "outputs": [
    {
     "data": {
      "text/plain": [
       "65"
      ]
     },
     "execution_count": 49,
     "metadata": {},
     "output_type": "execute_result"
    }
   ],
   "source": [
    "ord('A')"
   ]
  },
  {
   "cell_type": "code",
   "execution_count": 50,
   "metadata": {},
   "outputs": [
    {
     "data": {
      "text/plain": [
       "'a'"
      ]
     },
     "execution_count": 50,
     "metadata": {},
     "output_type": "execute_result"
    }
   ],
   "source": [
    "chr(97) #숫자에 해당하는 문자 돌려주는 함수"
   ]
  },
  {
   "cell_type": "code",
   "execution_count": null,
   "metadata": {},
   "outputs": [],
   "source": []
  },
  {
   "cell_type": "code",
   "execution_count": null,
   "metadata": {},
   "outputs": [],
   "source": [
    "# 주차장\n",
    "# 1.다음과 같은 메뉴를 제공한다.\n",
    "# [1] 자동차 넣기 | [2] 자동차 빼기 | [3] 종료 :\n",
    "# 2. 사용자는 메뉴에서 1~3번 사이의 메뉴만 선택할 수 있도록 한다.\n",
    "# 3. 1번을 선택한 경우 다음과 같은 출력이 나오도록 한다.\n",
    "# A 자동차 들어감. 주차장 상태 ===>['A']\n",
    "\n",
    "while (True):\n",
    "    num = input(\"[1] 자동차 넣기 | [2] 자동차 빼기 | [3] 종료 :\")\n",
    "    if num == 1 :\n",
    "        print(\"자동차 들어감\")\n",
    "    \n",
    "    "
   ]
  },
  {
   "cell_type": "code",
   "execution_count": 53,
   "metadata": {},
   "outputs": [
    {
     "name": "stdout",
     "output_type": "stream",
     "text": [
      "[1] 자동차 넣기 | [2] 자동차 빼기 | [3] 종료 :2\n",
      "빠져나갈 자동차가 없음\n",
      "[1] 자동차 넣기 | [2] 자동차 빼기 | [3] 종료 :3\n",
      "프로그램 종료\n"
     ]
    }
   ],
   "source": [
    "#선생님 주차장 코드\n",
    "\n",
    "parking_lot = []\n",
    "top, car_name = 0,\"A\"\n",
    "\n",
    "while True:\n",
    "    #메뉴 입력받기\n",
    "    menu = int(input(\"[1] 자동차 넣기 | [2] 자동차 빼기 | [3] 종료 :\"))\n",
    "    \n",
    "    if menu <= 3:\n",
    "        if menu == 1:\n",
    "            if top >=5:\n",
    "                print(\"주차장 꽉 찼음\")\n",
    "            else:\n",
    "                parking_lot.append(car_name)\n",
    "                print(\"{} 자동차 들어감.주차장 상태 ==> {}\".format(car_name,parking_lot))\n",
    "            top +=1 # 자동차가 들어갈 위치\n",
    "            car_name = chr(ord(car_name)+1) # 다음 자동차 명\n",
    "        elif menu == 2:\n",
    "            if top > 0:\n",
    "                outCar = parking_lot.pop()\n",
    "                print(\"%c 자동차 나감.주차장 상태 ==> %s\" % (outCar,parking_lot))\n",
    "                \n",
    "                top -=1\n",
    "                car_name = chr(ord(car_name)-1) # 다음 자동차 명\n",
    "            else:\n",
    "                print(\"빠져나갈 자동차가 없음\")\n",
    "        else:# 3번을 누른경우\n",
    "            print(\"프로그램 종료\")\n",
    "            break\n",
    "    else:\n",
    "        print(\"번호를 확인해 주세요\")"
   ]
  },
  {
   "cell_type": "code",
   "execution_count": null,
   "metadata": {},
   "outputs": [],
   "source": []
  },
  {
   "cell_type": "code",
   "execution_count": 55,
   "metadata": {},
   "outputs": [
    {
     "name": "stdout",
     "output_type": "stream",
     "text": [
      "35\n"
     ]
    }
   ],
   "source": [
    "# 1. 아래 문자열의 길이를 구하기\n",
    "\n",
    "q1 = \"dk2jd923i1jdk2jd2536jd918943jfd8923\"\n",
    "\n",
    "print(len(q1))"
   ]
  },
  {
   "cell_type": "code",
   "execution_count": 56,
   "metadata": {},
   "outputs": [
    {
     "name": "stdout",
     "output_type": "stream",
     "text": [
      "****************************************************************************************************\n"
     ]
    }
   ],
   "source": [
    "# 2. 화면에 * 기호 100개 표시하기\n",
    "print(\"*\"*100)"
   ]
  },
  {
   "cell_type": "code",
   "execution_count": 63,
   "metadata": {},
   "outputs": [
    {
     "name": "stdout",
     "output_type": "stream",
     "text": [
      "30\n",
      "30.0\n"
     ]
    }
   ],
   "source": [
    "# 3. 문자열 '30' 을 각각 정수형, 실수형으로 변환하기\n",
    "\n",
    "num = \"30\"\n",
    "\n",
    "print(int(num))\n",
    "print(float(num))\n",
    "\n"
   ]
  },
  {
   "cell_type": "code",
   "execution_count": 64,
   "metadata": {},
   "outputs": [
    {
     "name": "stdout",
     "output_type": "stream",
     "text": [
      "yrrebwartS\n"
     ]
    }
   ],
   "source": [
    "# 4. 다음 문자열 거꾸로 출력하기 : \"Strawberry\"\n",
    "\n",
    "str = \"Strawberry\"\n",
    "\n",
    "print(str[::-1])"
   ]
  },
  {
   "cell_type": "code",
   "execution_count": 65,
   "metadata": {},
   "outputs": [
    {
     "name": "stdout",
     "output_type": "stream",
     "text": [
      "01077779989\n"
     ]
    }
   ],
   "source": [
    "# 5. 다음 문자열에서 '-'를 제거한 후 출력하기\n",
    "tel = \"010-7777-9989\"\n",
    "\n",
    "print(tel[:3]+tel[4:8]+tel[9:13])"
   ]
  },
  {
   "cell_type": "code",
   "execution_count": 66,
   "metadata": {},
   "outputs": [
    {
     "name": "stdout",
     "output_type": "stream",
     "text": [
      "www.daum.net\n"
     ]
    }
   ],
   "source": [
    "# 6. 다음 문자열에서 \"http://\" 부분 제거한 후 출력하기\n",
    "url = \"http://www.daum.net\"\n",
    "\n",
    "print(url.replace(\"http://\",\"\"))"
   ]
  },
  {
   "cell_type": "code",
   "execution_count": 61,
   "metadata": {},
   "outputs": [
    {
     "name": "stdout",
     "output_type": "stream",
     "text": [
      "['Banana', 'Orange']\n"
     ]
    }
   ],
   "source": [
    "# 7. 다음 리스트에서 \"Apple\" 항목만 삭제한 후 출력하기\n",
    "list1 = [\"Banana\",\"Apple\",\"Orange\"]\n",
    "\n",
    "list1.remove(\"Apple\")\n",
    "print(list1)"
   ]
  },
  {
   "cell_type": "code",
   "execution_count": 69,
   "metadata": {},
   "outputs": [
    {
     "name": "stdout",
     "output_type": "stream",
     "text": [
      "study,python,anaconde,"
     ]
    }
   ],
   "source": [
    "# 8. 다음 리스트 항목 중에서 5글자 이상의 단어만 출력하기\n",
    "list2 = [\"nice\",\"study\",\"python\",\"anaconde\",\"!\"]\n",
    "\n",
    "for d in list2:\n",
    "    if len(d)>=5 :\n",
    "        print(d,end=\",\")"
   ]
  },
  {
   "cell_type": "code",
   "execution_count": 71,
   "metadata": {},
   "outputs": [
    {
     "name": "stdout",
     "output_type": "stream",
     "text": [
      "b,c,e,h,"
     ]
    }
   ],
   "source": [
    "# 9. 다음 리스트 항목 중에서 소문자만 출력하기\n",
    "list3 = [\"A\",\"b\",\"c\",\"D\",\"e\",\"F\",\"G\",\"h\"]\n",
    "for ch in list3:\n",
    "    if ch.islower():\n",
    "        print(ch,end=\",\")"
   ]
  },
  {
   "cell_type": "code",
   "execution_count": 72,
   "metadata": {},
   "outputs": [
    {
     "name": "stdout",
     "output_type": "stream",
     "text": [
      "a B C d E f g H "
     ]
    }
   ],
   "source": [
    "# 10. 다음 리스트 항목 중에서 소문자는 대문자로 대문자는 소문자로 출력하기\n",
    "list3 = [\"A\",\"b\",\"c\",\"D\",\"e\",\"F\",\"G\",\"h\"]\n",
    "\n",
    "for ch in list3:\n",
    "    if ch.islower():\n",
    "        print(ch.upper(),end=\" \")\n",
    "    else:\n",
    "        print(ch.lower(),end=\" \")"
   ]
  },
  {
   "cell_type": "code",
   "execution_count": 73,
   "metadata": {},
   "outputs": [
    {
     "name": "stdout",
     "output_type": "stream",
     "text": [
      "a B C d E f g H "
     ]
    }
   ],
   "source": [
    "for ch in list3:\n",
    "    print(ch.swapcase(),end=\" \")"
   ]
  },
  {
   "cell_type": "markdown",
   "metadata": {},
   "source": [
    "## 리스트 내포 표기"
   ]
  },
  {
   "cell_type": "code",
   "execution_count": 74,
   "metadata": {},
   "outputs": [
    {
     "name": "stdout",
     "output_type": "stream",
     "text": [
      "[2, 4, 6, 8]\n"
     ]
    }
   ],
   "source": [
    "print([x*2 for x in [1,2,3,4]])"
   ]
  },
  {
   "cell_type": "code",
   "execution_count": 76,
   "metadata": {},
   "outputs": [
    {
     "name": "stdout",
     "output_type": "stream",
     "text": [
      "[0, 1, 4, 9, 16]\n"
     ]
    }
   ],
   "source": [
    "print([x*x for x in range(5)])"
   ]
  },
  {
   "cell_type": "code",
   "execution_count": 77,
   "metadata": {},
   "outputs": [
    {
     "name": "stdout",
     "output_type": "stream",
     "text": [
      "[[1, 2, 3], [2, 3, 4], [3, 4, 5]]\n"
     ]
    }
   ],
   "source": [
    "# [1,2,3] =>[[1,2,3],\n",
    "#              [2,3,4],\n",
    "#                [3,4,5]]\n",
    "\n",
    "print([[x,x+1,x+2] for x in [1,2,3]])"
   ]
  },
  {
   "cell_type": "code",
   "execution_count": 79,
   "metadata": {},
   "outputs": [
    {
     "name": "stdout",
     "output_type": "stream",
     "text": [
      "[[0, 0, 0], [0, 0, 0], [0, 0, 0], [0, 0, 0]]\n"
     ]
    }
   ],
   "source": [
    "#[[0,0,0],[0,0,0],[0,0,0],[0,0,0]]\n",
    "\n",
    "print([[0 for x in range(3)] for y in range(4)])"
   ]
  },
  {
   "cell_type": "code",
   "execution_count": 94,
   "metadata": {},
   "outputs": [
    {
     "name": "stdout",
     "output_type": "stream",
     "text": [
      "[[0, 1, 2], [3, 4, 5], [6, 7, 8], [9, 10, 11]]\n"
     ]
    }
   ],
   "source": [
    "# [[0,1,2],[3,4,5],[6,7,8],[9,10,11]]\n",
    "\n",
    "list1 = []\n",
    "list2 = []\n",
    "\n",
    "for x in range(4):\n",
    "    for y in [0,1,2]:\n",
    "        list1.append(y+x*3)\n",
    "    list2.append(list1)\n",
    "    list1 = []\n",
    "print(list2)"
   ]
  },
  {
   "cell_type": "code",
   "execution_count": 96,
   "metadata": {},
   "outputs": [
    {
     "name": "stdout",
     "output_type": "stream",
     "text": [
      "[[0, 1, 2], [3, 4, 5], [6, 7, 8], [9, 10, 11]]\n"
     ]
    }
   ],
   "source": [
    "print([[y+x*3 for y in [0,1,2]] for x in range(4)])"
   ]
  },
  {
   "cell_type": "code",
   "execution_count": null,
   "metadata": {},
   "outputs": [],
   "source": []
  },
  {
   "cell_type": "code",
   "execution_count": null,
   "metadata": {},
   "outputs": [],
   "source": []
  },
  {
   "cell_type": "code",
   "execution_count": null,
   "metadata": {},
   "outputs": [],
   "source": []
  },
  {
   "cell_type": "code",
   "execution_count": null,
   "metadata": {},
   "outputs": [],
   "source": []
  },
  {
   "cell_type": "code",
   "execution_count": null,
   "metadata": {},
   "outputs": [],
   "source": []
  }
 ],
 "metadata": {
  "kernelspec": {
   "display_name": "Python 3",
   "language": "python",
   "name": "python3"
  },
  "language_info": {
   "codemirror_mode": {
    "name": "ipython",
    "version": 3
   },
   "file_extension": ".py",
   "mimetype": "text/x-python",
   "name": "python",
   "nbconvert_exporter": "python",
   "pygments_lexer": "ipython3",
   "version": "3.8.5"
  }
 },
 "nbformat": 4,
 "nbformat_minor": 4
}
