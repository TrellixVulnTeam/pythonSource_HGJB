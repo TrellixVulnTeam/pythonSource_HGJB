{
 "cells": [
  {
   "cell_type": "code",
   "execution_count": 2,
   "metadata": {},
   "outputs": [
    {
     "name": "stdout",
     "output_type": "stream",
     "text": [
      "hello!!!\n"
     ]
    }
   ],
   "source": [
    "# 함수 정의\n",
    "def hello():\n",
    "    print(\"hello!!!\")\n",
    "    \n",
    "\n",
    "# 호출\n",
    "hello()"
   ]
  },
  {
   "cell_type": "code",
   "execution_count": 3,
   "metadata": {},
   "outputs": [
    {
     "name": "stdout",
     "output_type": "stream",
     "text": [
      "hello!!! Hong\n"
     ]
    }
   ],
   "source": [
    "def hello():\n",
    "    return \"hello!!!\"\n",
    "\n",
    "say = hello()\n",
    "print(say,\"Hong\")"
   ]
  },
  {
   "cell_type": "code",
   "execution_count": 4,
   "metadata": {},
   "outputs": [
    {
     "data": {
      "text/plain": [
       "22"
      ]
     },
     "execution_count": 4,
     "metadata": {},
     "output_type": "execute_result"
    }
   ],
   "source": [
    "def add(a,b):\n",
    "    return a+b\n",
    "\n",
    "add(7,15)"
   ]
  },
  {
   "cell_type": "code",
   "execution_count": 5,
   "metadata": {},
   "outputs": [
    {
     "name": "stdout",
     "output_type": "stream",
     "text": [
      "안녕하세요\n",
      "안녕하세요\n"
     ]
    }
   ],
   "source": [
    "# n=2 : 기본 파라메터 (만일 값이 넘어오지 않을 때 기본값으로 처리)\n",
    "\n",
    "def print_n_times(value, n=2):\n",
    "    for i in range(n):\n",
    "        print(value)\n",
    "        \n",
    "\n",
    "print_n_times(\"안녕하세요\")"
   ]
  },
  {
   "cell_type": "code",
   "execution_count": 6,
   "metadata": {},
   "outputs": [
    {
     "name": "stdout",
     "output_type": "stream",
     "text": [
      "안녕하세요\n",
      "안녕하세요\n",
      "안녕하세요\n",
      "안녕하세요\n",
      "안녕하세요\n"
     ]
    }
   ],
   "source": [
    "print_n_times(\"안녕하세요\",5)"
   ]
  },
  {
   "cell_type": "code",
   "execution_count": 7,
   "metadata": {},
   "outputs": [
    {
     "name": "stdout",
     "output_type": "stream",
     "text": [
      "({'dessert': 'macaroon', 'wine': 'merlot'},)\n",
      "('35', '24', '15', '14')\n",
      "(['A', 'B', 'C', 'D'],)\n",
      "('E', 'F', 'G')\n"
     ]
    }
   ],
   "source": [
    "# *args : 가변 파라메터\n",
    "# 가변 파라메터 뒤에는 일반 매개 변수 사용 불가\n",
    "# 가변 파라메터는 하나만 사용\n",
    "\n",
    "def add_many(*args):\n",
    "    print(args)\n",
    "    \n",
    "    \n",
    "add_many({\"dessert\":\"macaroon\",\"wine\":\"merlot\"}) # 딕션어리\n",
    "add_many(\"35\",\"24\",\"15\",\"14\")\n",
    "add_many([\"A\",\"B\",\"C\",\"D\"]) # list\n",
    "add_many(\"E\",\"F\",\"G\")"
   ]
  },
  {
   "cell_type": "code",
   "execution_count": 8,
   "metadata": {},
   "outputs": [
    {
     "name": "stdout",
     "output_type": "stream",
     "text": [
      "1040\n",
      "118\n",
      "0\n"
     ]
    }
   ],
   "source": [
    "def add_many2(*args):\n",
    "    result = 0\n",
    "    for i in args:\n",
    "        result += i\n",
    "    return result\n",
    "\n",
    "print(add_many2(15,63,869,45,36,9,3))\n",
    "print(add_many2(27,35,56))\n",
    "print(add_many2())"
   ]
  },
  {
   "cell_type": "code",
   "execution_count": 10,
   "metadata": {},
   "outputs": [
    {
     "name": "stdout",
     "output_type": "stream",
     "text": [
      "덧셈 :  15\n",
      "곱셉 :  120\n"
     ]
    }
   ],
   "source": [
    "def sum_mul(choice,*args):\n",
    "    if choice == \"mul\":\n",
    "        result = 1\n",
    "        for i in args:\n",
    "            result *= i\n",
    "    elif choice == \"add\":\n",
    "        result = 0\n",
    "        for i in args:\n",
    "            result += i\n",
    "    return result\n",
    "\n",
    "print(\"덧셈 : \", sum_mul(\"add\", 1,2,3,4,5))\n",
    "print(\"곱셉 : \", sum_mul(\"mul\", 1,2,3,4,5))"
   ]
  },
  {
   "cell_type": "code",
   "execution_count": 11,
   "metadata": {},
   "outputs": [
    {
     "name": "stdout",
     "output_type": "stream",
     "text": [
      "{'name': 'park'}\n",
      "name\n",
      "name park\n",
      "\n",
      "{'name': 'park', 'name2': 'kim', 'active': 'test'}\n",
      "name\n",
      "name2\n",
      "active\n",
      "name park\n",
      "name2 kim\n",
      "active test\n",
      "\n",
      "{'name': 'kim', 'age': 10, 'title': 'title'}\n",
      "name\n",
      "age\n",
      "title\n",
      "name kim\n",
      "age 10\n",
      "title title\n",
      "\n",
      "{'name': 'hong', 'name2': 'tark'}\n",
      "name\n",
      "name2\n",
      "name hong\n",
      "name2 tark\n",
      "\n"
     ]
    }
   ],
   "source": [
    "# **kwargs: 가변 파라메터를 딕셔너리 형태로 처리\n",
    "\n",
    "\n",
    "def args_func1(**kwargs):\n",
    "    print(kwargs)\n",
    "    \n",
    "    for k in kwargs.keys():\n",
    "        print(k)\n",
    "    \n",
    "    for k,v in kwargs.items():\n",
    "        print(k,v)\n",
    "    print()\n",
    "    \n",
    "args_func1(name=\"park\")\n",
    "args_func1(name=\"park\", name2=\"kim\", active=\"test\")\n",
    "args_func1(name=\"kim\",age=10, title=\"title\")\n",
    "args_func1(name=\"hong\",name2=\"tark\")"
   ]
  },
  {
   "cell_type": "code",
   "execution_count": 13,
   "metadata": {},
   "outputs": [
    {
     "name": "stdout",
     "output_type": "stream",
     "text": [
      "10 20 30 () {}\n",
      "10 20 15 () {}\n",
      "20 30 kim ('choi',) {}\n",
      "20 30 kim ('choi',) {'age': 25, 'name': 'park'}\n"
     ]
    }
   ],
   "source": [
    "def example_mul(arg1,arg2,arg3=15,*args,**kwargs):\n",
    "    print(arg1,arg2,arg3,args,kwargs)\n",
    "    \n",
    "example_mul(10,20,30)\n",
    "example_mul(10,20)\n",
    "example_mul(20,30,\"kim\",\"choi\")\n",
    "example_mul(20,30,\"kim\",\"choi\",age=25,name=\"park\")"
   ]
  },
  {
   "cell_type": "code",
   "execution_count": null,
   "metadata": {},
   "outputs": [],
   "source": []
  },
  {
   "cell_type": "code",
   "execution_count": 14,
   "metadata": {},
   "outputs": [
    {
     "name": "stdout",
     "output_type": "stream",
     "text": [
      "(7, 12)\n"
     ]
    }
   ],
   "source": [
    "# 다중 리턴\n",
    "\n",
    "def sum_and_mul(a,b):\n",
    "    return a+b, a*b\n",
    "\n",
    "print(sum_and_mul(3,4))"
   ]
  },
  {
   "cell_type": "code",
   "execution_count": 15,
   "metadata": {},
   "outputs": [
    {
     "name": "stdout",
     "output_type": "stream",
     "text": [
      "(10000, 20000, 30000)\n"
     ]
    }
   ],
   "source": [
    "def func_mul(x):\n",
    "    y1 = x*100\n",
    "    y2 = x*200\n",
    "    y3 = x*300\n",
    "    return y1,y2,y3\n",
    "\n",
    "tup1 = func_mul(100)\n",
    "print(tup1)"
   ]
  },
  {
   "cell_type": "code",
   "execution_count": 16,
   "metadata": {},
   "outputs": [
    {
     "name": "stdout",
     "output_type": "stream",
     "text": [
      "9 20\n"
     ]
    }
   ],
   "source": [
    "add_result, mul_result = sum_and_mul(4,5)\n",
    "print(add_result,mul_result)"
   ]
  },
  {
   "cell_type": "code",
   "execution_count": 17,
   "metadata": {},
   "outputs": [
    {
     "name": "stdout",
     "output_type": "stream",
     "text": [
      "10000 20000 30000\n"
     ]
    }
   ],
   "source": [
    "val1, val2, val3 = func_mul(100)\n",
    "print(val1,val2,val3)"
   ]
  },
  {
   "cell_type": "code",
   "execution_count": 18,
   "metadata": {},
   "outputs": [
    {
     "name": "stdout",
     "output_type": "stream",
     "text": [
      "[10000, 20000, 30000]\n"
     ]
    }
   ],
   "source": [
    "def func_mul2(x):\n",
    "    y1 = x*100\n",
    "    y2 = x*200\n",
    "    y3 = x*300\n",
    "    return [y1,y2,y3]\n",
    "\n",
    "print(func_mul2(100))"
   ]
  },
  {
   "cell_type": "code",
   "execution_count": null,
   "metadata": {},
   "outputs": [],
   "source": []
  },
  {
   "cell_type": "code",
   "execution_count": 19,
   "metadata": {},
   "outputs": [
    {
     "name": "stdout",
     "output_type": "stream",
     "text": [
      "나의 별명은 야호 입니다.\n"
     ]
    }
   ],
   "source": [
    "def say_nick(nick):\n",
    "    if nick == \"바보\":\n",
    "        return\n",
    "    print(\"나의 별명은 {} 입니다.\".format(nick))\n",
    "\n",
    "    \n",
    "say_nick(\"바보\")\n",
    "say_nick(\"야호\")"
   ]
  },
  {
   "cell_type": "code",
   "execution_count": 20,
   "metadata": {},
   "outputs": [
    {
     "name": "stdout",
     "output_type": "stream",
     "text": [
      "6+3=9\n",
      "6-3=3\n",
      "6*3=18\n",
      "6//3=2\n"
     ]
    }
   ],
   "source": [
    "# 두 개의 인자와 연산자를 받아 사칙연산을 수행하는 fourRules 함수를 작성하시오\n",
    "\n",
    "\n",
    "def fourRules(num1,num2,op):\n",
    "    if op == \"+\":\n",
    "        return num1+num2\n",
    "    elif op ==\"-\":\n",
    "        return num1-num2\n",
    "    elif op ==\"*\":\n",
    "        return num1*num2\n",
    "    else:\n",
    "        return num1//num2\n",
    "    \n",
    "a,b = 6,3\n",
    "print(\"{}{}{}={}\".format(a,\"+\",b,fourRules(a,b,\"+\")))\n",
    "print(\"{}{}{}={}\".format(a,\"-\",b,fourRules(a,b,\"-\")))\n",
    "print(\"{}{}{}={}\".format(a,\"*\",b,fourRules(a,b,\"*\")))\n",
    "print(\"{}{}{}={}\".format(a,\"//\",b,fourRules(a,b,\"//\")))\n"
   ]
  },
  {
   "cell_type": "code",
   "execution_count": 23,
   "metadata": {},
   "outputs": [
    {
     "name": "stdout",
     "output_type": "stream",
     "text": [
      "input Num1 : 8\n",
      "input Num2 : 4\n",
      "연산자 입력 : *\n",
      "8*4=32\n"
     ]
    }
   ],
   "source": [
    "# 위에서 작성한 함수를 호출할 때 사용자로부터 인자와 연산자를 받아서 처리하기\n",
    "\n",
    "num1 = int(input(\"input Num1 : \"))\n",
    "num2 = int(input(\"input Num2 : \"))\n",
    "op = input(\"연산자 입력 : \")\n",
    "\n",
    "print(\"{}{}{}={}\".format(num1,op,num2,fourRules(num1,num2,op)))"
   ]
  },
  {
   "cell_type": "code",
   "execution_count": 25,
   "metadata": {},
   "outputs": [
    {
     "name": "stdout",
     "output_type": "stream",
     "text": [
      "[2, 3, 5, 7, 11, 13, 17, 19, 23, 29, 31, 37, 41, 43, 47, 53, 59, 61, 67, 71, 73, 79, 83, 89, 97]\n"
     ]
    }
   ],
   "source": [
    "# 1~100 사이의 소수(1과 자신으로만 나누어지는 수)를 구하여 리턴하는 함수를 작성하시오\n",
    "prime_list=[]\n",
    "\n",
    "def isPrime(x):\n",
    "    cnt = 0\n",
    "    for i in range(1, x+1):\n",
    "        if x % i == 0:\n",
    "            cnt +=1\n",
    "            \n",
    "    if cnt == 2:\n",
    "        prime_list.append(x)\n",
    "        \n",
    "    return prime_list\n",
    "\n",
    "\n",
    "for j in range(1,101):\n",
    "    isPrime(j)\n",
    "    \n",
    "print(prime_list)"
   ]
  },
  {
   "cell_type": "code",
   "execution_count": null,
   "metadata": {},
   "outputs": [],
   "source": []
  },
  {
   "cell_type": "code",
   "execution_count": null,
   "metadata": {},
   "outputs": [],
   "source": []
  },
  {
   "cell_type": "code",
   "execution_count": null,
   "metadata": {},
   "outputs": [],
   "source": []
  },
  {
   "cell_type": "code",
   "execution_count": null,
   "metadata": {},
   "outputs": [],
   "source": []
  },
  {
   "cell_type": "code",
   "execution_count": null,
   "metadata": {},
   "outputs": [],
   "source": []
  },
  {
   "cell_type": "code",
   "execution_count": null,
   "metadata": {},
   "outputs": [],
   "source": []
  },
  {
   "cell_type": "code",
   "execution_count": null,
   "metadata": {},
   "outputs": [],
   "source": []
  }
 ],
 "metadata": {
  "kernelspec": {
   "display_name": "Python 3",
   "language": "python",
   "name": "python3"
  },
  "language_info": {
   "codemirror_mode": {
    "name": "ipython",
    "version": 3
   },
   "file_extension": ".py",
   "mimetype": "text/x-python",
   "name": "python",
   "nbconvert_exporter": "python",
   "pygments_lexer": "ipython3",
   "version": "3.8.5"
  }
 },
 "nbformat": 4,
 "nbformat_minor": 4
}
