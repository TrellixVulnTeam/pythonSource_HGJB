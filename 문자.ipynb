{
 "cells": [
  {
   "cell_type": "markdown",
   "metadata": {},
   "source": [
    "## 문자 처리\n",
    "- 쌍따옴표, 홑따옴표로 표현\n",
    "- 쌍다옴표 3개 ,  홑따옴표 3개 가능\n",
    "- 문자와 문자열의 구별은 없음"
   ]
  },
  {
   "cell_type": "code",
   "execution_count": 1,
   "metadata": {},
   "outputs": [
    {
     "name": "stdout",
     "output_type": "stream",
     "text": [
      "Life is too short, You need Python.\n"
     ]
    }
   ],
   "source": [
    "a= \"Life is too short, You need Python.\"\n",
    "print(a)"
   ]
  },
  {
   "cell_type": "code",
   "execution_count": 2,
   "metadata": {},
   "outputs": [
    {
     "name": "stdout",
     "output_type": "stream",
     "text": [
      "Life is too short, You need Python.\n"
     ]
    }
   ],
   "source": [
    "a = 'Life is too short, You need Python.'\n",
    "print(a)"
   ]
  },
  {
   "cell_type": "code",
   "execution_count": 3,
   "metadata": {},
   "outputs": [
    {
     "name": "stdout",
     "output_type": "stream",
     "text": [
      "Life is too short, You need Python.\n"
     ]
    }
   ],
   "source": [
    "a = \"\"\"Life is too short, You need Python.\"\"\"\n",
    "print(a)"
   ]
  },
  {
   "cell_type": "code",
   "execution_count": 4,
   "metadata": {},
   "outputs": [
    {
     "name": "stdout",
     "output_type": "stream",
     "text": [
      "Life is too short, You need Python.\n"
     ]
    }
   ],
   "source": [
    "a = '''Life is too short, You need Python.'''\n",
    "print(a)"
   ]
  },
  {
   "cell_type": "markdown",
   "metadata": {},
   "source": [
    "- 문자열 응용 : +(결합),*(복제)"
   ]
  },
  {
   "cell_type": "code",
   "execution_count": 1,
   "metadata": {},
   "outputs": [
    {
     "name": "stdout",
     "output_type": "stream",
     "text": [
      "Python is fun\n"
     ]
    }
   ],
   "source": [
    "print(\"Python\"+\" is fun\")"
   ]
  },
  {
   "cell_type": "code",
   "execution_count": 2,
   "metadata": {},
   "outputs": [
    {
     "name": "stdout",
     "output_type": "stream",
     "text": [
      "pythonpython\n"
     ]
    }
   ],
   "source": [
    "print(\"python\"*2)"
   ]
  },
  {
   "cell_type": "code",
   "execution_count": 3,
   "metadata": {},
   "outputs": [
    {
     "name": "stdout",
     "output_type": "stream",
     "text": [
      "**************************************************\n",
      "My Program\n",
      "**************************************************\n"
     ]
    }
   ],
   "source": [
    "print(\"*\"*50)\n",
    "print(\"My Program\")\n",
    "print(\"*\"*50)"
   ]
  },
  {
   "cell_type": "markdown",
   "metadata": {},
   "source": [
    "- 문자열 인덱싱과 슬라이싱"
   ]
  },
  {
   "cell_type": "code",
   "execution_count": 7,
   "metadata": {
    "scrolled": true
   },
   "outputs": [
    {
     "name": "stdout",
     "output_type": "stream",
     "text": [
      "e\n"
     ]
    }
   ],
   "source": [
    "str1 =\"Life is too short\"\n",
    "print(str1[3])  # 인덱싱 : 0부터 시작"
   ]
  },
  {
   "cell_type": "code",
   "execution_count": 8,
   "metadata": {},
   "outputs": [
    {
     "name": "stdout",
     "output_type": "stream",
     "text": [
      "t\n"
     ]
    }
   ],
   "source": [
    "print(str1[-1])   # 음수로 값을 주게 되면 뒤에서부터 인덱싱 시작"
   ]
  },
  {
   "cell_type": "code",
   "execution_count": 9,
   "metadata": {},
   "outputs": [
    {
     "name": "stdout",
     "output_type": "stream",
     "text": [
      "Life\n"
     ]
    }
   ],
   "source": [
    "print(str1[0:4])"
   ]
  },
  {
   "cell_type": "code",
   "execution_count": 10,
   "metadata": {},
   "outputs": [
    {
     "name": "stdout",
     "output_type": "stream",
     "text": [
      "is\n"
     ]
    }
   ],
   "source": [
    "print(str1[5:7])"
   ]
  },
  {
   "cell_type": "code",
   "execution_count": 11,
   "metadata": {},
   "outputs": [
    {
     "name": "stdout",
     "output_type": "stream",
     "text": [
      "oo short\n"
     ]
    }
   ],
   "source": [
    "print(str1[9:])"
   ]
  },
  {
   "cell_type": "code",
   "execution_count": 12,
   "metadata": {},
   "outputs": [
    {
     "name": "stdout",
     "output_type": "stream",
     "text": [
      "Life is too short\n"
     ]
    }
   ],
   "source": [
    "print(str1[:17])"
   ]
  },
  {
   "cell_type": "code",
   "execution_count": 13,
   "metadata": {},
   "outputs": [
    {
     "name": "stdout",
     "output_type": "stream",
     "text": [
      "Life is too s\n"
     ]
    }
   ],
   "source": [
    "print(str1[0:-4])"
   ]
  },
  {
   "cell_type": "code",
   "execution_count": 14,
   "metadata": {},
   "outputs": [
    {
     "name": "stdout",
     "output_type": "stream",
     "text": [
      "문자의 길이  17\n"
     ]
    }
   ],
   "source": [
    "# 문자열 길이 함수\n",
    "\n",
    "print(\"문자의 길이 \",len(str1))"
   ]
  },
  {
   "cell_type": "code",
   "execution_count": 24,
   "metadata": {},
   "outputs": [
    {
     "name": "stdout",
     "output_type": "stream",
     "text": [
      "날짜 0216\n",
      "날씨 Sunny\n"
     ]
    }
   ],
   "source": [
    "str2 = \"20210216 Sunny\"\n",
    "\n",
    "# 날짜와 날씨 나눠서 출력하기 \n",
    "print(\"날짜\",str2[4:8])\n",
    "print(\"날씨\",str2[-5:])"
   ]
  },
  {
   "cell_type": "code",
   "execution_count": 28,
   "metadata": {},
   "outputs": [
    {
     "name": "stdout",
     "output_type": "stream",
     "text": [
      "2021-02-16\n"
     ]
    }
   ],
   "source": [
    "# 날짜를 2021-02-16 출력하기\n",
    "\n",
    "print(str2[0:4]+\"-\"+str2[4:6]+\"-\"+str2[6:8])"
   ]
  },
  {
   "cell_type": "code",
   "execution_count": 31,
   "metadata": {},
   "outputs": [
    {
     "name": "stdout",
     "output_type": "stream",
     "text": [
      "20210216\n",
      "Sunny\n"
     ]
    }
   ],
   "source": [
    "# 선생님 방식\n",
    "\n",
    "date = str2[0:8]\n",
    "weather = str2[9:]\n",
    "print(date)\n",
    "print(weather)"
   ]
  },
  {
   "cell_type": "code",
   "execution_count": 33,
   "metadata": {},
   "outputs": [
    {
     "name": "stdout",
     "output_type": "stream",
     "text": [
      "2021-02-16\n"
     ]
    }
   ],
   "source": [
    "year = date[0:4]\n",
    "month = date[4:6]\n",
    "day = date[6:]\n",
    "print(year,month,day,sep=\"-\")"
   ]
  },
  {
   "cell_type": "code",
   "execution_count": 34,
   "metadata": {},
   "outputs": [
    {
     "name": "stdout",
     "output_type": "stream",
     "text": [
      "남자\n"
     ]
    }
   ],
   "source": [
    "jumin = \"951205-3234567\"\n",
    "\n",
    "no = jumin[7]\n",
    "\n",
    "# 주민등록번호에서 일곱번째 자리 숫자를 이용해서 남, 여 판별 후 출력하기 \n",
    "# 1,3 : 남자, 2,4 : 여자\n",
    "\n",
    "if no==\"1\" or no==\"3\":\n",
    "    print(\"남자\")\n",
    "elif no ==\"2\" or no == \"4\":\n",
    "    print(\"여자\")"
   ]
  },
  {
   "cell_type": "code",
   "execution_count": 35,
   "metadata": {},
   "outputs": [
    {
     "name": "stdout",
     "output_type": "stream",
     "text": [
      "남자\n"
     ]
    }
   ],
   "source": [
    "if int(no) % 2 == 1:\n",
    "    print(\"남자\")\n",
    "else:\n",
    "    print(\"여자\")"
   ]
  },
  {
   "cell_type": "code",
   "execution_count": 38,
   "metadata": {},
   "outputs": [
    {
     "name": "stdout",
     "output_type": "stream",
     "text": [
      "대$한$민$국$\n",
      "대$한$민$국$"
     ]
    }
   ],
   "source": [
    "str3 = \"대한민국\"    # 대$한$민$국\n",
    "\n",
    "for i in range(len(str3)):\n",
    "    print(str3[i],end=\"$\")\n",
    "\n",
    "print()\n",
    "# 선생님 방법\n",
    "\n",
    "for s in str3:\n",
    "    print(s+\"$\",end=\"\")"
   ]
  },
  {
   "cell_type": "code",
   "execution_count": 46,
   "metadata": {},
   "outputs": [
    {
     "name": "stdout",
     "output_type": "stream",
     "text": [
      "숫자를 입력하세요:54321\n",
      "♥♥♥♥♥\n",
      "♥♥♥♥\n",
      "♥♥♥\n",
      "♥♥\n",
      "♥\n"
     ]
    }
   ],
   "source": [
    "# 입력받은 숫자만큼 하트를 출력\n",
    "\n",
    "# 54321\n",
    "\n",
    "# ♥♥♥♥♥\n",
    "# ♥♥♥♥\n",
    "# ♥♥♥\n",
    "# ♥♥\n",
    "# ♥\n",
    "\n",
    "str4 =input(\"숫자를 입력하세요:\") #54321\n",
    "\n",
    "for i in range(len(str4)):\n",
    "    for j in range(int(str4[i])):\n",
    "        print(\"♥\",end=\"\")\n",
    "    print()\n",
    " "
   ]
  },
  {
   "cell_type": "markdown",
   "metadata": {},
   "source": [
    "- 문자열 관련 함수"
   ]
  },
  {
   "cell_type": "code",
   "execution_count": 47,
   "metadata": {},
   "outputs": [
    {
     "name": "stdout",
     "output_type": "stream",
     "text": [
      "a 문자열에 포함된 b 문자열 개수 :  2\n"
     ]
    }
   ],
   "source": [
    "# count : 문자열에 포함된 특정 문자열 개수\n",
    "\n",
    "a = \"hobby\"\n",
    "print(\"a 문자열에 포함된 b 문자열 개수 : \",a.count('b'))"
   ]
  },
  {
   "cell_type": "code",
   "execution_count": 49,
   "metadata": {},
   "outputs": [
    {
     "name": "stdout",
     "output_type": "stream",
     "text": [
      "b가 시작되는 첫번째 위치 :  10\n",
      "k가 시작되는 첫번째 위치 :  -1\n"
     ]
    }
   ],
   "source": [
    "# find : 문자를 찾아서 시작되는 위치 돌려줌\n",
    "\n",
    "a = \"Python is best choice\"\n",
    "print('b가 시작되는 첫번째 위치 : ',a.find('b'))\n",
    "print('k가 시작되는 첫번째 위치 : ',a.find('k'))"
   ]
  },
  {
   "cell_type": "code",
   "execution_count": 50,
   "metadata": {},
   "outputs": [
    {
     "name": "stdout",
     "output_type": "stream",
     "text": [
      "b가 시작되는 첫번째 위치 :  -1\n"
     ]
    }
   ],
   "source": [
    "print('b가 시작되는 첫번째 위치 : ',a.find('b',11))"
   ]
  },
  {
   "cell_type": "code",
   "execution_count": 51,
   "metadata": {},
   "outputs": [
    {
     "name": "stdout",
     "output_type": "stream",
     "text": [
      "b가 시작되는 첫번째 위치 :  10\n"
     ]
    }
   ],
   "source": [
    "# rfind() : 오른쪽부터 찾기 : 위치를 돌려줄땐 왼쪽부터의 위치를 알려줌 \n",
    "print('b가 시작되는 첫번째 위치 : ',a.rfind('b'))"
   ]
  },
  {
   "cell_type": "code",
   "execution_count": 52,
   "metadata": {},
   "outputs": [
    {
     "name": "stdout",
     "output_type": "stream",
     "text": [
      "b가 시작되는 첫번째 위치 :  10\n"
     ]
    }
   ],
   "source": [
    "# index : find 함수와 동일한 기능 . 단,  찾는 문자열이 없는 경우 에러 발생시킴\n",
    "\n",
    "a = \"Python is best choice\"\n",
    "print('b가 시작되는 첫번째 위치 : ',a.index('b'))\n",
    "# print('k가 시작되는 첫번째 위치 : ',a.index('k'))"
   ]
  },
  {
   "cell_type": "code",
   "execution_count": 54,
   "metadata": {},
   "outputs": [
    {
     "name": "stdout",
     "output_type": "stream",
     "text": [
      "True\n"
     ]
    }
   ],
   "source": [
    "# startwith(): 괄호안의 문자열로 시작하면 True\n",
    "\n",
    "a= \"Python is easy programming\"\n",
    "print(a.startswith(\"P\"))"
   ]
  },
  {
   "cell_type": "code",
   "execution_count": 55,
   "metadata": {},
   "outputs": [
    {
     "name": "stdout",
     "output_type": "stream",
     "text": [
      "True\n"
     ]
    }
   ],
   "source": [
    "# endswith(): 괄호안의 문자열로 끝나면 True\n",
    "print(a.endswith(\"g\"))"
   ]
  },
  {
   "cell_type": "code",
   "execution_count": 56,
   "metadata": {},
   "outputs": [
    {
     "name": "stdout",
     "output_type": "stream",
     "text": [
      "a , b , c , d\n"
     ]
    }
   ],
   "source": [
    "# join() : 문자 사이에 연결 문자 지정\n",
    "\n",
    "b = \" , \"\n",
    "print(b.join(\"abcd\"))"
   ]
  },
  {
   "cell_type": "code",
   "execution_count": 57,
   "metadata": {},
   "outputs": [
    {
     "name": "stdout",
     "output_type": "stream",
     "text": [
      "ABCD\n"
     ]
    }
   ],
   "source": [
    "# upper() : 대문자로 변경\n",
    "\n",
    "a = \"abcd\"\n",
    "print(a.upper())"
   ]
  },
  {
   "cell_type": "code",
   "execution_count": 58,
   "metadata": {},
   "outputs": [
    {
     "name": "stdout",
     "output_type": "stream",
     "text": [
      "abcde\n"
     ]
    }
   ],
   "source": [
    "# lower() : 소문자로 변경\n",
    "\n",
    "a = \"ABCDE\"\n",
    "print(a.lower())"
   ]
  },
  {
   "cell_type": "code",
   "execution_count": 59,
   "metadata": {},
   "outputs": [
    {
     "name": "stdout",
     "output_type": "stream",
     "text": [
      "pYTHON IS eASY\n"
     ]
    }
   ],
   "source": [
    "# swapcase(): 대소문자 상호 변경\n",
    "\n",
    "a=\"Python is Easy\"\n",
    "print(a.swapcase())"
   ]
  },
  {
   "cell_type": "code",
   "execution_count": 60,
   "metadata": {},
   "outputs": [
    {
     "name": "stdout",
     "output_type": "stream",
     "text": [
      "Python Is Easy\n"
     ]
    }
   ],
   "source": [
    "# title() : 각 단어의 시작 부분을 대문자로 변경\n",
    "\n",
    "a = \"python is easy\"\n",
    "print(a.title())"
   ]
  },
  {
   "cell_type": "code",
   "execution_count": 61,
   "metadata": {},
   "outputs": [
    {
     "name": "stdout",
     "output_type": "stream",
     "text": [
      "        hi\n",
      "hi\n"
     ]
    }
   ],
   "source": [
    "# 공백제거 : strip(), lstrip(), rstrip()\n",
    "\n",
    "a= \"        hi\"\n",
    "print(a)\n",
    "print(a.lstrip()) #왼쪽 공백제거"
   ]
  },
  {
   "cell_type": "code",
   "execution_count": 62,
   "metadata": {},
   "outputs": [
    {
     "name": "stdout",
     "output_type": "stream",
     "text": [
      "hi                  \n",
      "hi\n"
     ]
    }
   ],
   "source": [
    "a= \"hi                  \"\n",
    "print(a)\n",
    "print(a.rstrip()) # 오른쪽 공백제거"
   ]
  },
  {
   "cell_type": "code",
   "execution_count": 64,
   "metadata": {},
   "outputs": [
    {
     "name": "stdout",
     "output_type": "stream",
     "text": [
      "    hi    \n",
      "hi\n"
     ]
    }
   ],
   "source": [
    "a=\"    hi    \"\n",
    "print(a)\n",
    "print(a.strip()) # 양쪽 공백 제거"
   ]
  },
  {
   "cell_type": "code",
   "execution_count": 67,
   "metadata": {},
   "outputs": [
    {
     "name": "stdout",
     "output_type": "stream",
     "text": [
      "Your leg is too short\n"
     ]
    }
   ],
   "source": [
    "# replace() : 문자열 바꾸기\n",
    "\n",
    "a = \"Life is too short\"\n",
    "print(a.replace(\"Life\",\"Your leg\"))"
   ]
  },
  {
   "cell_type": "code",
   "execution_count": 68,
   "metadata": {},
   "outputs": [
    {
     "name": "stdout",
     "output_type": "stream",
     "text": [
      "['a', 'b', 'c', 'd']\n"
     ]
    }
   ],
   "source": [
    "# split(): 문자열 나누기\n",
    "\n",
    "a = \"a:b:c:d\"\n",
    "\n",
    "print(a.split(\":\")) # list로 돌아옴"
   ]
  },
  {
   "cell_type": "code",
   "execution_count": 69,
   "metadata": {},
   "outputs": [
    {
     "name": "stdout",
     "output_type": "stream",
     "text": [
      "['a', 'b', 'c', 'd']\n"
     ]
    }
   ],
   "source": [
    "a = \"a\\nb\\nc\\nd\"\n",
    "\n",
    "print(a.split(\"\\n\")) # list로 돌아옴"
   ]
  },
  {
   "cell_type": "code",
   "execution_count": 70,
   "metadata": {},
   "outputs": [
    {
     "name": "stdout",
     "output_type": "stream",
     "text": [
      "['python', 'is', 'easy']\n"
     ]
    }
   ],
   "source": [
    "a = \"python is easy\"\n",
    "print(a.split())"
   ]
  },
  {
   "cell_type": "code",
   "execution_count": 73,
   "metadata": {},
   "outputs": [
    {
     "name": "stdout",
     "output_type": "stream",
     "text": [
      "True\n",
      "True\n",
      "True\n",
      "True\n",
      "True\n"
     ]
    }
   ],
   "source": [
    "# 문자열 구성 파악 함수 : isdigit(),isalpha(), isalnum(),islower(), isupper()\n",
    "\n",
    "print(\"1234\".isdigit()) # 숫자냐\n",
    "print(\"abcd\".isalpha()) # 알파벳이냐\n",
    "print(\"abc123\".isalnum()) # 알파벳과 숫자냐\n",
    "print(\"abcd\".islower()) # 소문자냐\n",
    "print(\"ABCD\".isupper()) # 대문자냐"
   ]
  },
  {
   "cell_type": "code",
   "execution_count": 74,
   "metadata": {},
   "outputs": [
    {
     "name": "stdout",
     "output_type": "stream",
     "text": [
      "kENNry\n"
     ]
    }
   ],
   "source": [
    "name = \"KennRY\"\n",
    "\n",
    "# 대문자는 소문자로, 소문자는 대문자로 출력하기\n",
    "\n",
    "print(name.swapcase())"
   ]
  },
  {
   "cell_type": "code",
   "execution_count": 4,
   "metadata": {
    "scrolled": true
   },
   "outputs": [
    {
     "name": "stdout",
     "output_type": "stream",
     "text": [
      "날짜를 입력하세요 (예: 1945/08/15) :1988/12/15\n",
      "1998년12월15일\n"
     ]
    }
   ],
   "source": [
    "# 년/월/일 형태로 입력받은 후 10년 후의 날짜 출력하기\n",
    "\n",
    "date = input(\"날짜를 입력하세요 (예: 1945/08/15) :\")\n",
    "\n",
    "year = int(date[0:4])+10\n",
    "month = date[5:7]\n",
    "day = date[-2:]\n",
    "\n",
    "\n",
    "#입력값이 2021/02/16 일때 => 2031 년 02월 16일\n",
    "print(str(year)+\"년\"+month+\"월\"+day+\"일\")\n",
    "\n"
   ]
  },
  {
   "cell_type": "code",
   "execution_count": 91,
   "metadata": {},
   "outputs": [
    {
     "name": "stdout",
     "output_type": "stream",
     "text": [
      "날짜를 입력하세요 예: 1945/08/151988/12/15\n",
      "입력한 날짜의 10년 후 1998년12월15일\n"
     ]
    }
   ],
   "source": [
    "#선생님 방식\n",
    "date1=input(\"날짜를 입력하세요 예: 1945/08/15\")\n",
    "pos = date1.find(\"/\")\n",
    "year = int(date1[:pos])+10\n",
    "print(\"입력한 날짜의 10년 후 %s\" %(str(year)+\"년\"+date1[5:7])+\"월\"+date1[8:]+\"일\")"
   ]
  },
  {
   "cell_type": "code",
   "execution_count": 98,
   "metadata": {},
   "outputs": [
    {
     "name": "stdout",
     "output_type": "stream",
     "text": [
      "dau40!\n",
      "nav51!\n",
      "goo61!\n"
     ]
    }
   ],
   "source": [
    "# 문자열 불변\n",
    "# 사이트 별로 비밀번호를 만들어 주기\n",
    "# 예) http://naver.com\n",
    "# 규칙1 : http://부분은 제외한다.\n",
    "# 규칙2 : 처음 만나는 점(.) 이후 부분은 제외\n",
    "# 규칙3 : 남은 글자 중 처음 세자리 + 글자 갯수 + 글자 내 'e' 갯수 + ! 로 구성\n",
    "# 결과 => nav51!\n",
    "\n",
    "daum = \"http://daum.com\"\n",
    "naver =\"http://naver.com\"\n",
    "google = \"http://google.com\"\n",
    "\n",
    "d = daum[7:-4]\n",
    "n = naver[7:-4]\n",
    "g = google[7:-4]\n",
    "\n",
    "\n",
    "print(d[0:3]+str(len(d))+str(d.count('e'))+\"!\")\n",
    "print(n[0:3]+str(len(n))+str(n.count('e'))+\"!\")\n",
    "print(g[0:3]+str(len(g))+str(g.count('e'))+\"!\")\n",
    "\n"
   ]
  },
  {
   "cell_type": "code",
   "execution_count": 5,
   "metadata": {},
   "outputs": [
    {
     "name": "stdout",
     "output_type": "stream",
     "text": [
      "nav51!\n"
     ]
    }
   ],
   "source": [
    "#선생님 방식\n",
    "url = \"http://naver.com\"\n",
    "url = url.replace(\"http://\",\"\") #문자열은 naver.com\n",
    "url = url[:url.find(\".\")] #naver\n",
    "e_cnt =url.count('e')\n",
    "\n",
    "password = url[:3]+str(len(url))+str(e_cnt)+\"!\"\n",
    "print(password)"
   ]
  },
  {
   "cell_type": "code",
   "execution_count": null,
   "metadata": {},
   "outputs": [],
   "source": []
  },
  {
   "cell_type": "code",
   "execution_count": null,
   "metadata": {},
   "outputs": [],
   "source": []
  },
  {
   "cell_type": "code",
   "execution_count": null,
   "metadata": {},
   "outputs": [],
   "source": []
  }
 ],
 "metadata": {
  "kernelspec": {
   "display_name": "Python 3",
   "language": "python",
   "name": "python3"
  },
  "language_info": {
   "codemirror_mode": {
    "name": "ipython",
    "version": 3
   },
   "file_extension": ".py",
   "mimetype": "text/x-python",
   "name": "python",
   "nbconvert_exporter": "python",
   "pygments_lexer": "ipython3",
   "version": "3.8.5"
  }
 },
 "nbformat": 4,
 "nbformat_minor": 4
}
