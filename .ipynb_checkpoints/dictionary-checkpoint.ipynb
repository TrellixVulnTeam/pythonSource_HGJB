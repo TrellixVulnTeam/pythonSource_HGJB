{
 "cells": [
  {
   "cell_type": "markdown",
   "metadata": {},
   "source": [
    "## 딕셔너리 : key,value"
   ]
  },
  {
   "cell_type": "code",
   "execution_count": 2,
   "metadata": {},
   "outputs": [
    {
     "name": "stdout",
     "output_type": "stream",
     "text": [
      "{'name': 'kim', 'age ': 12}\n",
      "kim\n"
     ]
    },
    {
     "ename": "KeyError",
     "evalue": "'addr'",
     "output_type": "error",
     "traceback": [
      "\u001b[1;31m---------------------------------------------------------------------------\u001b[0m",
      "\u001b[1;31mKeyError\u001b[0m                                  Traceback (most recent call last)",
      "\u001b[1;32m<ipython-input-2-29ac7752c6dc>\u001b[0m in \u001b[0;36m<module>\u001b[1;34m\u001b[0m\n\u001b[0;32m      2\u001b[0m \u001b[0mprint\u001b[0m\u001b[1;33m(\u001b[0m\u001b[0mdic1\u001b[0m\u001b[1;33m)\u001b[0m\u001b[1;33m\u001b[0m\u001b[1;33m\u001b[0m\u001b[0m\n\u001b[0;32m      3\u001b[0m \u001b[0mprint\u001b[0m\u001b[1;33m(\u001b[0m\u001b[0mdic1\u001b[0m\u001b[1;33m[\u001b[0m\u001b[1;34m\"name\"\u001b[0m\u001b[1;33m]\u001b[0m\u001b[1;33m)\u001b[0m\u001b[1;33m\u001b[0m\u001b[1;33m\u001b[0m\u001b[0m\n\u001b[1;32m----> 4\u001b[1;33m \u001b[0mprint\u001b[0m\u001b[1;33m(\u001b[0m\u001b[0mdic1\u001b[0m\u001b[1;33m[\u001b[0m\u001b[1;34m'addr'\u001b[0m\u001b[1;33m]\u001b[0m\u001b[1;33m)\u001b[0m\u001b[1;33m\u001b[0m\u001b[1;33m\u001b[0m\u001b[0m\n\u001b[0m",
      "\u001b[1;31mKeyError\u001b[0m: 'addr'"
     ]
    }
   ],
   "source": [
    "dic1 = {\"name\": \"kim\" , \"age \":12}\n",
    "print(dic1)\n",
    "print(dic1[\"name\"])\n",
    "print(dic1['addr'])"
   ]
  },
  {
   "cell_type": "code",
   "execution_count": 4,
   "metadata": {},
   "outputs": [
    {
     "name": "stdout",
     "output_type": "stream",
     "text": [
      "{0: 'kim', 1: 12}\n"
     ]
    }
   ],
   "source": [
    "dic2 = {0: \"kim\" , 1:12}\n",
    "print(dic2)"
   ]
  },
  {
   "cell_type": "code",
   "execution_count": 5,
   "metadata": {},
   "outputs": [
    {
     "name": "stdout",
     "output_type": "stream",
     "text": [
      "{'arr': [1, 2, 3, 4, 5]}\n"
     ]
    }
   ],
   "source": [
    "dic3 = {\"arr\": [1,2,3,4,5]}\n",
    "print(dic3)"
   ]
  },
  {
   "cell_type": "code",
   "execution_count": 6,
   "metadata": {},
   "outputs": [
    {
     "name": "stdout",
     "output_type": "stream",
     "text": [
      "{'name': 'kim', 'age ': 12, 'birth': '1115'}\n"
     ]
    }
   ],
   "source": [
    "# 추가\n",
    "\n",
    "dic1['birth']='1115'\n",
    "print(dic1)"
   ]
  },
  {
   "cell_type": "code",
   "execution_count": 7,
   "metadata": {},
   "outputs": [
    {
     "name": "stdout",
     "output_type": "stream",
     "text": [
      "{0: 'kim', 1: 12, 2: {'Hello JSP', 'Hello Python'}}\n"
     ]
    }
   ],
   "source": [
    "dic2[2] = {'Hello Python','Hello JSP'}\n",
    "print(dic2)"
   ]
  },
  {
   "cell_type": "code",
   "execution_count": 8,
   "metadata": {},
   "outputs": [
    {
     "name": "stdout",
     "output_type": "stream",
     "text": [
      "{'arr': [1, 2, 3, 4, 5], 'rank': (16, 17, 18)}\n"
     ]
    }
   ],
   "source": [
    "dic3['rank']= (16,17,18)\n",
    "print(dic3)"
   ]
  },
  {
   "cell_type": "code",
   "execution_count": 9,
   "metadata": {},
   "outputs": [
    {
     "name": "stdout",
     "output_type": "stream",
     "text": [
      "{1: 3, 2: 4, 6: 1, 8: 2, 4: 3, 3: 3, 9: 3, 5: 2, 7: 2}\n"
     ]
    }
   ],
   "source": [
    "numbers = [1,2,6,8,4,3,2,1,9,5,4,9,7,2,1,3,5,4,8,9,7,2,3]\n",
    "\n",
    "#numbers 내부에 들어 있는 숫자가 각각 몇번씩 등장하는지를 출력하기 \n",
    "# {1:3,2:4 ,6:1 .......}\n",
    "\n",
    "counter ={}\n",
    "for num in numbers:\n",
    "    counter[num] = numbers.count(num)\n",
    "print(counter)"
   ]
  },
  {
   "cell_type": "code",
   "execution_count": 10,
   "metadata": {},
   "outputs": [
    {
     "name": "stdout",
     "output_type": "stream",
     "text": [
      "{'name': 'kim', 'age ': 12}\n"
     ]
    }
   ],
   "source": [
    "del dic1['birth']\n",
    "print(dic1)"
   ]
  },
  {
   "cell_type": "code",
   "execution_count": null,
   "metadata": {},
   "outputs": [],
   "source": []
  },
  {
   "cell_type": "code",
   "execution_count": 11,
   "metadata": {},
   "outputs": [
    {
     "name": "stdout",
     "output_type": "stream",
     "text": [
      "dict_keys(['name', 'age '])\n"
     ]
    }
   ],
   "source": [
    "# 관련 함수\n",
    "\n",
    "# 키값만 가져오기\n",
    "print(dic1.keys())"
   ]
  },
  {
   "cell_type": "code",
   "execution_count": 12,
   "metadata": {},
   "outputs": [
    {
     "name": "stdout",
     "output_type": "stream",
     "text": [
      "dict_values(['kim', 12])\n"
     ]
    }
   ],
   "source": [
    "# value 만 가져오기\n",
    "\n",
    "print(dic1.values())"
   ]
  },
  {
   "cell_type": "code",
   "execution_count": 13,
   "metadata": {},
   "outputs": [
    {
     "name": "stdout",
     "output_type": "stream",
     "text": [
      "dict_items([('name', 'kim'), ('age ', 12)])\n"
     ]
    }
   ],
   "source": [
    "# key,balue 쌍으로 가져오기\n",
    "\n",
    "print(dic1.items())"
   ]
  },
  {
   "cell_type": "code",
   "execution_count": 14,
   "metadata": {},
   "outputs": [
    {
     "name": "stdout",
     "output_type": "stream",
     "text": [
      "None\n"
     ]
    }
   ],
   "source": [
    "print(dic1.get('birth'))"
   ]
  },
  {
   "cell_type": "code",
   "execution_count": 15,
   "metadata": {},
   "outputs": [
    {
     "ename": "KeyError",
     "evalue": "'birth'",
     "output_type": "error",
     "traceback": [
      "\u001b[1;31m---------------------------------------------------------------------------\u001b[0m",
      "\u001b[1;31mKeyError\u001b[0m                                  Traceback (most recent call last)",
      "\u001b[1;32m<ipython-input-15-0df7ef433c7e>\u001b[0m in \u001b[0;36m<module>\u001b[1;34m\u001b[0m\n\u001b[1;32m----> 1\u001b[1;33m \u001b[0mprint\u001b[0m\u001b[1;33m(\u001b[0m\u001b[0mdic1\u001b[0m\u001b[1;33m[\u001b[0m\u001b[1;34m'birth'\u001b[0m\u001b[1;33m]\u001b[0m\u001b[1;33m)\u001b[0m\u001b[1;33m\u001b[0m\u001b[1;33m\u001b[0m\u001b[0m\n\u001b[0m",
      "\u001b[1;31mKeyError\u001b[0m: 'birth'"
     ]
    }
   ],
   "source": [
    "print(dic1['birth'])"
   ]
  },
  {
   "cell_type": "code",
   "execution_count": 16,
   "metadata": {},
   "outputs": [
    {
     "name": "stdout",
     "output_type": "stream",
     "text": [
      "True\n"
     ]
    }
   ],
   "source": [
    "print(\"name\" in dic1)"
   ]
  },
  {
   "cell_type": "code",
   "execution_count": 18,
   "metadata": {},
   "outputs": [
    {
     "name": "stdout",
     "output_type": "stream",
     "text": [
      "{}\n"
     ]
    }
   ],
   "source": [
    "dic1.clear()\n",
    "print(dic1)"
   ]
  },
  {
   "cell_type": "code",
   "execution_count": 20,
   "metadata": {},
   "outputs": [
    {
     "name": "stdout",
     "output_type": "stream",
     "text": [
      "name\n",
      "age\n",
      "city\n"
     ]
    }
   ],
   "source": [
    "myInfo = {\"name\":\"Kim\",\"age\":25,\"city\":\"seoul\"}\n",
    "\n",
    "for key in myInfo.keys():\n",
    "    print(key)\n",
    "    "
   ]
  },
  {
   "cell_type": "code",
   "execution_count": 22,
   "metadata": {},
   "outputs": [
    {
     "name": "stdout",
     "output_type": "stream",
     "text": [
      "Kim\n",
      "25\n",
      "seoul\n"
     ]
    }
   ],
   "source": [
    "for key in myInfo.values():\n",
    "    print(key)"
   ]
  },
  {
   "cell_type": "code",
   "execution_count": 23,
   "metadata": {},
   "outputs": [
    {
     "name": "stdout",
     "output_type": "stream",
     "text": [
      "name Kim\n",
      "age 25\n",
      "city seoul\n"
     ]
    }
   ],
   "source": [
    "for k,v in myInfo.items():\n",
    "    print(k,v)"
   ]
  },
  {
   "cell_type": "code",
   "execution_count": 28,
   "metadata": {},
   "outputs": [
    {
     "name": "stdout",
     "output_type": "stream",
     "text": [
      "사과\n",
      "사과\n",
      "사과\n"
     ]
    }
   ],
   "source": [
    "# 아래 딕셔너리에서 '가을'에 해당하는 과일을 출력하기\n",
    "dict2 = {\"봄\":\"딸기\",\"여름\":\"토마토\",\"가을\":\"사과\"}\n",
    "\n",
    "print(dict2.get(\"가을\"))\n",
    "\n",
    "#선생님 방식 1\n",
    "print(dict2['가을'])\n",
    "\n",
    "#선생님 방식 2\n",
    "for k, v in dict2.items():\n",
    "    if k == \"가을\":\n",
    "        print(v)"
   ]
  },
  {
   "cell_type": "code",
   "execution_count": 29,
   "metadata": {},
   "outputs": [
    {
     "name": "stdout",
     "output_type": "stream",
     "text": [
      "사과가 포함됨\n"
     ]
    }
   ],
   "source": [
    "# 위의 딕셔너리에서 '사과'가 포함되었는지 출력하기\n",
    "\n",
    "for v in dict2.values():\n",
    "    if v == \"사과\":\n",
    "        print(\"사과가 포함됨\")"
   ]
  },
  {
   "cell_type": "code",
   "execution_count": 30,
   "metadata": {},
   "outputs": [
    {
     "name": "stdout",
     "output_type": "stream",
     "text": [
      "{'딸기', '사과', '토마토'}\n"
     ]
    }
   ],
   "source": [
    "fruits={fruit for fruit in dict2.values()}\n",
    "\n",
    "print(fruits)"
   ]
  },
  {
   "cell_type": "code",
   "execution_count": 31,
   "metadata": {},
   "outputs": [
    {
     "name": "stdout",
     "output_type": "stream",
     "text": [
      "{'딸기', '토마토'}\n"
     ]
    }
   ],
   "source": [
    "fruits={fruit for fruit in dict2.values() if fruit !=\"사과\"}\n",
    "\n",
    "print(fruits)"
   ]
  },
  {
   "cell_type": "code",
   "execution_count": 32,
   "metadata": {},
   "outputs": [
    {
     "name": "stdout",
     "output_type": "stream",
     "text": [
      "{('여름', '토마토'), ('봄', '딸기')}\n"
     ]
    }
   ],
   "source": [
    "fruits={(key,value) for (key,value) in dict2.items() if value !=\"사과\"}\n",
    "\n",
    "print(fruits)"
   ]
  },
  {
   "cell_type": "code",
   "execution_count": 35,
   "metadata": {},
   "outputs": [
    {
     "name": "stdout",
     "output_type": "stream",
     "text": [
      "{'A': 90, 'B': 80, 'C': 70}\n",
      "80\n",
      "{'A': 90, 'C': 70}\n"
     ]
    }
   ],
   "source": [
    "# 딕셔너리를 생성하시오\n",
    "# 'A': 90, 'B': 80 , 'C' : 70\n",
    "dict1 = {'A': 90, 'B': 80 , 'C' : 70}\n",
    "print(dict1)\n",
    "         \n",
    "# 생성된 딕셔너리에서 B키에 해당하는 값만 출력하시오.\n",
    "print(dict1['B'])\n",
    "         \n",
    "# B 키 값을 삭제한 후 딕셔너리를 출력하시오.\n",
    "\n",
    "# dict1 = {(key,value) for (key,value) in dict1.items() if key !=\"B\" }\n",
    "# print(dict1)\n",
    "\n",
    "\n",
    "# 삭제는\n",
    "\n",
    "del dict1['B']\n",
    "print(dict1)"
   ]
  },
  {
   "cell_type": "code",
   "execution_count": 38,
   "metadata": {},
   "outputs": [
    {
     "name": "stdout",
     "output_type": "stream",
     "text": [
      "{'성인': 10000, '청소년': 7000, '아동': 3000}\n",
      "{'성인': 10000, '청소년': 7000, '아동': 3000, '소아': 0}\n",
      "성인\n",
      "청소년\n",
      "아동\n",
      "소아\n",
      "dict_keys(['성인', '청소년', '아동', '소아'])\n",
      "\n",
      "10000\n",
      "7000\n",
      "3000\n",
      "0\n",
      "dict_values([10000, 7000, 3000, 0])\n"
     ]
    }
   ],
   "source": [
    "# 딕셔너리 생성\n",
    "#\"성인\": 10000, \"청소년\":7000, \"아동\":3000\n",
    "dict2 = {\"성인\":10000, \"청소년\":7000, \"아동\":3000}\n",
    "print(dict2)\n",
    "#생성된 딕셔너리에 \"소아\" : 0 추가하기\n",
    "dict2[\"소아\"]=0\n",
    "print(dict2)\n",
    "\n",
    "#현재 딕셔너리의 key 값만 출력하기\n",
    "for key in dict2.keys():\n",
    "    print(key)\n",
    "\n",
    "\n",
    "# 선생님 방식\n",
    "print(dict2.keys())\n",
    "\n",
    "print()\n",
    "# 현재 딕셔너리의 value 값만 출력하기\n",
    "for key in dict2.values():\n",
    "    print(key)\n",
    "    \n",
    "# 성생님 방식\n",
    "print(dict2.values())"
   ]
  },
  {
   "cell_type": "code",
   "execution_count": 39,
   "metadata": {},
   "outputs": [],
   "source": [
    "character = {\n",
    "    \"name\":\"기사\",\n",
    "    \"level\":12,\n",
    "    \"items\":{\"sword\":\"불꽃의 검\",\"armor\":\"플레이트\"},\n",
    "    \"skill\":[\"베기\",\"세게 베기\",\"아주 세게 베기\"]\n",
    "}"
   ]
  },
  {
   "cell_type": "code",
   "execution_count": 40,
   "metadata": {},
   "outputs": [
    {
     "data": {
      "text/plain": [
       "dict"
      ]
     },
     "execution_count": 40,
     "metadata": {},
     "output_type": "execute_result"
    }
   ],
   "source": [
    "type(character)"
   ]
  },
  {
   "cell_type": "code",
   "execution_count": 41,
   "metadata": {},
   "outputs": [
    {
     "name": "stdout",
     "output_type": "stream",
     "text": [
      "name : 기사 \n",
      "level : 12 \n",
      "sword : 불꽃의 검\n",
      "armor : 플레이트\n",
      "skill : 베기\n",
      "skill : 세게 베기\n",
      "skill : 아주 세게 베기\n"
     ]
    }
   ],
   "source": [
    "for key in character:\n",
    "    type1 = type(character[key])\n",
    "    \n",
    "    if type1 != dict:\n",
    "        if(type1 == str) | (type1 == int):\n",
    "            print(\"{} : {} \".format(key,character[key]))\n",
    "        else:\n",
    "            for item in character[key]:\n",
    "                print(\"{} : {}\".format(key,item))\n",
    "                \n",
    "    else:\n",
    "        for subkey in character[key]:\n",
    "            print(subkey, \":\" , character[key][subkey])"
   ]
  },
  {
   "cell_type": "code",
   "execution_count": 42,
   "metadata": {},
   "outputs": [
    {
     "name": "stdout",
     "output_type": "stream",
     "text": [
      "불꽃의 검\n"
     ]
    }
   ],
   "source": [
    "print(character[\"items\"][\"sword\"])"
   ]
  },
  {
   "cell_type": "code",
   "execution_count": null,
   "metadata": {},
   "outputs": [],
   "source": []
  },
  {
   "cell_type": "code",
   "execution_count": null,
   "metadata": {},
   "outputs": [],
   "source": []
  },
  {
   "cell_type": "code",
   "execution_count": null,
   "metadata": {},
   "outputs": [],
   "source": []
  },
  {
   "cell_type": "code",
   "execution_count": null,
   "metadata": {},
   "outputs": [],
   "source": []
  },
  {
   "cell_type": "code",
   "execution_count": null,
   "metadata": {},
   "outputs": [],
   "source": []
  },
  {
   "cell_type": "code",
   "execution_count": null,
   "metadata": {},
   "outputs": [],
   "source": []
  }
 ],
 "metadata": {
  "kernelspec": {
   "display_name": "Python 3",
   "language": "python",
   "name": "python3"
  },
  "language_info": {
   "codemirror_mode": {
    "name": "ipython",
    "version": 3
   },
   "file_extension": ".py",
   "mimetype": "text/x-python",
   "name": "python",
   "nbconvert_exporter": "python",
   "pygments_lexer": "ipython3",
   "version": "3.8.5"
  }
 },
 "nbformat": 4,
 "nbformat_minor": 4
}
