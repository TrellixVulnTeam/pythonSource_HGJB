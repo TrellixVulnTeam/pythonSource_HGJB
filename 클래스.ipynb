{
 "cells": [
  {
   "cell_type": "markdown",
   "metadata": {},
   "source": [
    "### 학생 3명의 정보(이름,학번,학년,학생정보(성별,과목성적)를 담아서 처리"
   ]
  },
  {
   "cell_type": "code",
   "execution_count": 1,
   "metadata": {},
   "outputs": [],
   "source": [
    "# 학생 1 \n",
    "student_name_1 = \"Kim\"\n",
    "student_number_1 = 1\n",
    "student_grade_1 = 1\n",
    "student_detail_1 = [{'gender':'male'},{'score1':95},{'score2':88}]"
   ]
  },
  {
   "cell_type": "code",
   "execution_count": 2,
   "metadata": {},
   "outputs": [],
   "source": [
    "# 학생 2 \n",
    "student_name_2 = \"Park\"\n",
    "student_number_2 = 2\n",
    "student_grade_2 = 2\n",
    "student_detail_2 = [{'gender':'female'},{'score1':75},{'score2':68}]"
   ]
  },
  {
   "cell_type": "code",
   "execution_count": 3,
   "metadata": {},
   "outputs": [],
   "source": [
    "# 학생 3 \n",
    "student_name_3 = \"Choi\"\n",
    "student_number_3 = 3\n",
    "student_grade_3 = 3\n",
    "student_detail_3 = [{'gender':'male'},{'score1':99},{'score2':89}]"
   ]
  },
  {
   "cell_type": "code",
   "execution_count": 4,
   "metadata": {},
   "outputs": [
    {
     "name": "stdout",
     "output_type": "stream",
     "text": [
      "이름 : Kim, 학번 : 1, 학년 : 1, 학생정보 : [{'gender': 'male'}, {'score1': 95}, {'score2': 88}]\n",
      "이름 : Park, 학번 : 2, 학년 : 2, 학생정보 : [{'gender': 'female'}, {'score1': 75}, {'score2': 68}]\n",
      "이름 : Choi, 학번 : 3, 학년 : 3, 학생정보 : [{'gender': 'male'}, {'score1': 99}, {'score2': 89}]\n"
     ]
    }
   ],
   "source": [
    "# 학생 정보 출력\n",
    "print(\"이름 : %s, 학번 : %d, 학년 : %d, 학생정보 : %s\" % (student_name_1,student_number_1,student_grade_1,student_detail_1))\n",
    "print(\"이름 : %s, 학번 : %d, 학년 : %d, 학생정보 : %s\" % (student_name_2,student_number_2,student_grade_2,student_detail_2))\n",
    "print(\"이름 : %s, 학번 : %d, 학년 : %d, 학생정보 : %s\" % (student_name_3,student_number_3,student_grade_3,student_detail_3))"
   ]
  },
  {
   "cell_type": "markdown",
   "metadata": {},
   "source": [
    "#### 개선 - list"
   ]
  },
  {
   "cell_type": "code",
   "execution_count": 9,
   "metadata": {},
   "outputs": [],
   "source": [
    "student_name_list = ['Kim','Pack','Choi']\n",
    "student_numbers_list = [1,2,3]\n",
    "student_grade_list = [1,2,3]\n",
    "student_detail_list =[\n",
    "    {'gender':'male','score1':95,'score2':88},\n",
    "    {'gender':'female','score1':75,'score2':68},\n",
    "    {'gender':'male','score1':99,'score2':89} \n",
    "]"
   ]
  },
  {
   "cell_type": "code",
   "execution_count": 10,
   "metadata": {},
   "outputs": [
    {
     "name": "stdout",
     "output_type": "stream",
     "text": [
      "['Kim', 'Pack', 'Choi']\n",
      "[1, 2, 3]\n"
     ]
    }
   ],
   "source": [
    "print(student_name_list)\n",
    "print(student_grade_list)"
   ]
  },
  {
   "cell_type": "code",
   "execution_count": 11,
   "metadata": {},
   "outputs": [],
   "source": [
    "del student_name_list[1]\n",
    "del student_numbers_list[1]\n",
    "del student_grade_list[1]\n",
    "del student_detail_list[1]"
   ]
  },
  {
   "cell_type": "markdown",
   "metadata": {},
   "source": [
    "### 개선 - dict"
   ]
  },
  {
   "cell_type": "code",
   "execution_count": 12,
   "metadata": {},
   "outputs": [],
   "source": [
    "student_dicts=[\n",
    "    {'이름' : 'Kim', '학번' : 1, '학년' : 1, '학생정보' : {'gender': 'male', 'score1': 95, 'score2': 88}},\n",
    "    {'이름' : 'Park', '학번' : 2, '학년' : 2, '학생정보' : {'gender': 'female', 'score1': 75, 'score2': 68}},\n",
    "    {'이름' : 'Choi', '학번' : 3, '학년' : 3, '학생정보' : {'gender': 'male', 'score1': 99, 'score2': 89}}\n",
    "]"
   ]
  },
  {
   "cell_type": "code",
   "execution_count": 13,
   "metadata": {},
   "outputs": [],
   "source": [
    "del student_dicts[1]"
   ]
  },
  {
   "cell_type": "markdown",
   "metadata": {},
   "source": [
    "### 클래스 - 재사용성 증가, 코드 반복 최소화, 메소드 이용"
   ]
  },
  {
   "cell_type": "code",
   "execution_count": 14,
   "metadata": {},
   "outputs": [],
   "source": [
    "class Student:\n",
    "    def __init__(self,name,number,grade,details): #생성자\n",
    "        self._name = name #self == this\n",
    "        self._number = number\n",
    "        self._grade = grade\n",
    "        self._details = details\n",
    "        \n",
    "#     def __str__(self): # toString()\n",
    "#         return 'str : {}'.format(self._name)\n",
    "    \n",
    "    def __repr__(self): # __str__ 대안\n",
    "        return 'str: {} : {}'.format(self._name,self._number)"
   ]
  },
  {
   "cell_type": "code",
   "execution_count": 15,
   "metadata": {},
   "outputs": [],
   "source": [
    "# 객체 생성\n",
    "student1 = Student('Kim',1,1,{'gender': 'male', 'score1': 95, 'score2': 88})\n",
    "student2 = Student('Park',2,2,{'gender': 'female', 'score1': 75, 'score2': 68})\n",
    "student3 = Student('Choi',3,3,{'gender': 'male', 'score1': 99, 'score2': 89})"
   ]
  },
  {
   "cell_type": "code",
   "execution_count": 16,
   "metadata": {},
   "outputs": [
    {
     "name": "stdout",
     "output_type": "stream",
     "text": [
      "str: Kim : 1\n",
      "str: Park : 2\n",
      "str: Choi : 3\n"
     ]
    }
   ],
   "source": [
    "print(student1)\n",
    "print(student2)\n",
    "print(student3)"
   ]
  },
  {
   "cell_type": "code",
   "execution_count": 17,
   "metadata": {},
   "outputs": [
    {
     "name": "stdout",
     "output_type": "stream",
     "text": [
      "['__class__', '__delattr__', '__dict__', '__dir__', '__doc__', '__eq__', '__format__', '__ge__', '__getattribute__', '__gt__', '__hash__', '__init__', '__init_subclass__', '__le__', '__lt__', '__module__', '__ne__', '__new__', '__reduce__', '__reduce_ex__', '__repr__', '__setattr__', '__sizeof__', '__str__', '__subclasshook__', '__weakref__', '_details', '_grade', '_name', '_number']\n"
     ]
    }
   ],
   "source": [
    "print(dir(student1))"
   ]
  },
  {
   "cell_type": "code",
   "execution_count": 18,
   "metadata": {},
   "outputs": [
    {
     "name": "stdout",
     "output_type": "stream",
     "text": [
      "{'_name': 'Kim', '_number': 1, '_grade': 1, '_details': {'gender': 'male', 'score1': 95, 'score2': 88}}\n"
     ]
    }
   ],
   "source": [
    "print(student1.__dict__)"
   ]
  },
  {
   "cell_type": "code",
   "execution_count": 19,
   "metadata": {},
   "outputs": [],
   "source": [
    "class UserInfo:\n",
    "    \"\"\"\n",
    "    UserInfo class\n",
    "    Author :Hong\n",
    "    Date : 2020.02.23\n",
    "    Description : Class 작성법\n",
    "    \n",
    "    \"\"\"\n",
    "    \n",
    "    def user_info(self): #인스턴스 메소드 :self를 반드시 필요\n",
    "        print(\"메소드 실행\")\n",
    "        "
   ]
  },
  {
   "cell_type": "code",
   "execution_count": 20,
   "metadata": {},
   "outputs": [],
   "source": [
    "#객체 생성\n",
    "user1 = UserInfo()"
   ]
  },
  {
   "cell_type": "code",
   "execution_count": 21,
   "metadata": {},
   "outputs": [
    {
     "name": "stdout",
     "output_type": "stream",
     "text": [
      "메소드 실행\n"
     ]
    }
   ],
   "source": [
    "#메소드 호출\n",
    "user1.user_info()"
   ]
  },
  {
   "cell_type": "code",
   "execution_count": 22,
   "metadata": {},
   "outputs": [],
   "source": [
    "class Car:\n",
    "    color = \"\"\n",
    "    speed =0\n",
    "    \n",
    "    def upSpeed(self,value):\n",
    "        self.speed += value\n",
    "        \n",
    "    def downSpeed(self, value):\n",
    "        self.speed -= value"
   ]
  },
  {
   "cell_type": "code",
   "execution_count": 23,
   "metadata": {},
   "outputs": [],
   "source": [
    "myCar1 = Car()\n",
    "myCar1.color = \"Red\"\n",
    "myCar1.speed =10\n",
    "\n",
    "myCar2 = Car()\n",
    "myCar2.color = \"Black\"\n",
    "myCar2.speed =20\n",
    "\n",
    "myCar3 = Car()\n",
    "myCar3.color = \"White\"\n",
    "myCar3.speed =30"
   ]
  },
  {
   "cell_type": "code",
   "execution_count": 24,
   "metadata": {},
   "outputs": [
    {
     "name": "stdout",
     "output_type": "stream",
     "text": [
      "myCar1 의 색상은 Red 이며, 현재 속도는 10km 입니다.\n",
      "myCar2 의 색상은 Black 이며, 현재 속도는 20km 입니다.\n",
      "myCar3 의 색상은 White 이며, 현재 속도는 30km 입니다.\n"
     ]
    }
   ],
   "source": [
    "print(\"myCar1 의 색상은 {} 이며, 현재 속도는 {}km 입니다.\".format(myCar1.color,myCar1.speed))\n",
    "print(\"myCar2 의 색상은 {} 이며, 현재 속도는 {}km 입니다.\".format(myCar2.color,myCar2.speed))\n",
    "print(\"myCar3 의 색상은 {} 이며, 현재 속도는 {}km 입니다.\".format(myCar3.color,myCar3.speed))"
   ]
  },
  {
   "cell_type": "code",
   "execution_count": 25,
   "metadata": {},
   "outputs": [],
   "source": [
    "class UserInfo:\n",
    "    \"\"\"\n",
    "    UserInfo class\n",
    "    Author :Hong\n",
    "    Date : 2020.02.23\n",
    "    Description : Class 작성법\n",
    "    \n",
    "    \"\"\"\n",
    "    def __init__(self):\n",
    "        self.name=\"홍길동\"\n",
    "        self.age=25\n",
    "    \n",
    "    def user_info(self): #인스턴스 메소드 :self를 반드시 필요\n",
    "        return \"name : {}, age : {}\".format(self.name,self.age)\n",
    "        "
   ]
  },
  {
   "cell_type": "code",
   "execution_count": 26,
   "metadata": {},
   "outputs": [
    {
     "name": "stdout",
     "output_type": "stream",
     "text": [
      "name : 홍길동, age : 25\n"
     ]
    }
   ],
   "source": [
    "user1 = UserInfo()\n",
    "print(user1.user_info())"
   ]
  },
  {
   "cell_type": "code",
   "execution_count": 27,
   "metadata": {},
   "outputs": [],
   "source": [
    "class Calculator:\n",
    "    def __init__(self):\n",
    "        self.result = 0\n",
    "        \n",
    "    def addr(self,num):\n",
    "        self.result += num\n",
    "        return self.result"
   ]
  },
  {
   "cell_type": "code",
   "execution_count": 28,
   "metadata": {},
   "outputs": [
    {
     "name": "stdout",
     "output_type": "stream",
     "text": [
      "cal1 : 10\n",
      "cal2 : 100\n"
     ]
    }
   ],
   "source": [
    "cal1 = Calculator()\n",
    "cal2 = Calculator()\n",
    "\n",
    "print(\"cal1 : {}\".format(cal1.addr(10)))\n",
    "print(\"cal2 : {}\".format(cal2.addr(100)))"
   ]
  },
  {
   "cell_type": "code",
   "execution_count": 29,
   "metadata": {},
   "outputs": [],
   "source": [
    "class Calculator:\n",
    "    def __init__(self,result):\n",
    "        self.result = result\n",
    "        \n",
    "    def addr(self,num):\n",
    "        self.result += num\n",
    "        return self.result"
   ]
  },
  {
   "cell_type": "code",
   "execution_count": 31,
   "metadata": {},
   "outputs": [
    {
     "name": "stdout",
     "output_type": "stream",
     "text": [
      "cal1 : 10\n",
      "cal2 : 100\n"
     ]
    }
   ],
   "source": [
    "cal1 = Calculator(0)\n",
    "cal2 = Calculator(0)\n",
    "\n",
    "print(\"cal1 : {}\".format(cal1.addr(10)))\n",
    "print(\"cal2 : {}\".format(cal2.addr(100)))"
   ]
  },
  {
   "cell_type": "code",
   "execution_count": 39,
   "metadata": {},
   "outputs": [],
   "source": [
    "class UserInfo:\n",
    "    \"\"\"\n",
    "    UserInfo class\n",
    "    Author :Hong\n",
    "    Date : 2020.02.23\n",
    "    Description : Class 작성법\n",
    "    \n",
    "    \"\"\"\n",
    "    user_count = 0\n",
    "    \n",
    "    def __init__(self,name,age):\n",
    "        self.name=name\n",
    "        self.age=age\n",
    "        \n",
    "        # 클래스 변수 static\n",
    "        UserInfo.user_count +=1\n",
    "    \n",
    "    def user_info(self): #인스턴스 메소드 :self를 반드시 필요\n",
    "        return \"name : {}, age : {}\".format(self.name,self.age)\n",
    "    \n",
    "    def __del__(self): #del 시 호출됨\n",
    "        UserInfo.user_count -=1\n",
    "        "
   ]
  },
  {
   "cell_type": "code",
   "execution_count": 40,
   "metadata": {},
   "outputs": [],
   "source": [
    "user1 = UserInfo(\"김중원\",30)\n",
    "user2 = UserInfo(\"홍길동\",40)"
   ]
  },
  {
   "cell_type": "code",
   "execution_count": 41,
   "metadata": {},
   "outputs": [
    {
     "name": "stdout",
     "output_type": "stream",
     "text": [
      "name : 김중원, age : 30\n",
      "name : 홍길동, age : 40\n"
     ]
    }
   ],
   "source": [
    "print(user1.user_info())\n",
    "print(user2.user_info())"
   ]
  },
  {
   "cell_type": "code",
   "execution_count": 42,
   "metadata": {},
   "outputs": [
    {
     "name": "stdout",
     "output_type": "stream",
     "text": [
      "생성된 user : 2명\n",
      "생성된 user : 2명\n"
     ]
    }
   ],
   "source": [
    "print(\"생성된 user : {}명\".format(UserInfo.user_count))\n",
    "print(\"생성된 user : {}명\".format(user2.user_count))"
   ]
  },
  {
   "cell_type": "code",
   "execution_count": 43,
   "metadata": {},
   "outputs": [
    {
     "name": "stdout",
     "output_type": "stream",
     "text": [
      "['__class__', '__del__', '__delattr__', '__dict__', '__dir__', '__doc__', '__eq__', '__format__', '__ge__', '__getattribute__', '__gt__', '__hash__', '__init__', '__init_subclass__', '__le__', '__lt__', '__module__', '__ne__', '__new__', '__reduce__', '__reduce_ex__', '__repr__', '__setattr__', '__sizeof__', '__str__', '__subclasshook__', '__weakref__', 'age', 'name', 'user_count', 'user_info']\n",
      "\n",
      "['__class__', '__del__', '__delattr__', '__dict__', '__dir__', '__doc__', '__eq__', '__format__', '__ge__', '__getattribute__', '__gt__', '__hash__', '__init__', '__init_subclass__', '__le__', '__lt__', '__module__', '__ne__', '__new__', '__reduce__', '__reduce_ex__', '__repr__', '__setattr__', '__sizeof__', '__str__', '__subclasshook__', '__weakref__', 'user_count', 'user_info']\n"
     ]
    }
   ],
   "source": [
    "print(dir(user1))\n",
    "print()\n",
    "print(dir(UserInfo))"
   ]
  },
  {
   "cell_type": "code",
   "execution_count": 44,
   "metadata": {},
   "outputs": [],
   "source": [
    "del user1"
   ]
  },
  {
   "cell_type": "code",
   "execution_count": 45,
   "metadata": {},
   "outputs": [
    {
     "name": "stdout",
     "output_type": "stream",
     "text": [
      "생성된 user : 1명\n"
     ]
    }
   ],
   "source": [
    "print(\"생성된 user : {}명\".format(UserInfo.user_count)) # __del__ 호출됨"
   ]
  },
  {
   "cell_type": "code",
   "execution_count": 46,
   "metadata": {},
   "outputs": [],
   "source": [
    "class Car:\n",
    "    car_count = 0 #클래스 변수\n",
    "    \n",
    "    # 생성자\n",
    "    def __init__(self,count,color,speed):\n",
    "        #인스턴스 변수\n",
    "        self.color = color\n",
    "        self.speed = speed\n",
    "        #클래스 변수\n",
    "        Car.car_count += count\n",
    "        \n",
    "    # 인스턴스 메소드\n",
    "    def upSpeed(self,value):\n",
    "        self.speed += value\n",
    "        \n",
    "    def downSpeed(self,value):\n",
    "        self.speed -= value\n",
    "        \n",
    "    def __del__(self):\n",
    "        Car.car_count -=1"
   ]
  },
  {
   "cell_type": "code",
   "execution_count": 47,
   "metadata": {},
   "outputs": [
    {
     "name": "stdout",
     "output_type": "stream",
     "text": [
      "car1의 현재 속도는 20km,색상은 Red, 생산된 자동차 숫자는 총 1대\n",
      "car2의 현재 속도는 40km,색상은 Blue, 생산된 자동차 숫자는 총 2대\n",
      "car3의 현재 속도는 40km,색상은 Black, 생산된 자동차 숫자는 총 3대\n"
     ]
    }
   ],
   "source": [
    "car1 = Car(1, \"Red\",10)\n",
    "car1.upSpeed(10)\n",
    "print(\"car1의 현재 속도는 {}km,색상은 {}, 생산된 자동차 숫자는 총 {}대\".format(car1.speed,car1.color,Car.car_count))\n",
    "\n",
    "car2 = Car(1, \"Blue\",20)\n",
    "car2.upSpeed(20)\n",
    "print(\"car2의 현재 속도는 {}km,색상은 {}, 생산된 자동차 숫자는 총 {}대\".format(car2.speed,car2.color,Car.car_count))\n",
    "\n",
    "car3 = Car(1, \"Black\",30)\n",
    "car3.upSpeed(10)\n",
    "print(\"car3의 현재 속도는 {}km,색상은 {}, 생산된 자동차 숫자는 총 {}대\".format(car3.speed,car3.color,Car.car_count))"
   ]
  },
  {
   "cell_type": "code",
   "execution_count": 48,
   "metadata": {},
   "outputs": [
    {
     "name": "stdout",
     "output_type": "stream",
     "text": [
      "2\n"
     ]
    }
   ],
   "source": [
    "del car3\n",
    "print(Car.car_count)"
   ]
  },
  {
   "cell_type": "code",
   "execution_count": 49,
   "metadata": {},
   "outputs": [
    {
     "name": "stdout",
     "output_type": "stream",
     "text": [
      "{'color': 'Red', 'speed': 20}\n"
     ]
    }
   ],
   "source": [
    "print(car1.__dict__)  # 객체가 가지고 있는 인스턴스 값을 dict 형태로 출력"
   ]
  },
  {
   "cell_type": "code",
   "execution_count": null,
   "metadata": {},
   "outputs": [],
   "source": []
  },
  {
   "cell_type": "code",
   "execution_count": 51,
   "metadata": {},
   "outputs": [],
   "source": [
    "class SelfTest:\n",
    "    def function1(): #클래스 메소드\n",
    "        print(\"function1 called\")\n",
    "        \n",
    "    def function2(self): # 인스턴스 메소드\n",
    "        print(\"function2 called\")"
   ]
  },
  {
   "cell_type": "code",
   "execution_count": 56,
   "metadata": {},
   "outputs": [
    {
     "name": "stdout",
     "output_type": "stream",
     "text": [
      "function1 called\n",
      "function2 called\n"
     ]
    }
   ],
   "source": [
    "self1 = SelfTest()\n",
    "# self1.function1() # TypeError: function1() takes 0 positional arguments but 1 was given\n",
    "SelfTest.function1()\n",
    "self1.function2()"
   ]
  },
  {
   "cell_type": "code",
   "execution_count": 57,
   "metadata": {},
   "outputs": [
    {
     "name": "stdout",
     "output_type": "stream",
     "text": [
      "function2 called\n"
     ]
    }
   ],
   "source": [
    "SelfTest.function2(self1) "
   ]
  },
  {
   "cell_type": "code",
   "execution_count": 70,
   "metadata": {},
   "outputs": [],
   "source": [
    "class UserInfo:\n",
    "    \"\"\"\n",
    "    UserInfo class\n",
    "    Author :Hong\n",
    "    Date : 2020.02.23\n",
    "    Description : Class 작성법\n",
    "    \n",
    "    \"\"\"\n",
    "    # email=\"xxx@gmail.com\"\n",
    "    def __init__(self,name,age,email=None):\n",
    "        self.name=name\n",
    "        self.age=age\n",
    "        self.email = email\n",
    "        \n",
    "    \n",
    "    def user_info(self): #인스턴스 메소드 :self를 반드시 필요\n",
    "        return \"name : {}, age : {}, email :{}\".format(self.name,self.age,self.email)"
   ]
  },
  {
   "cell_type": "code",
   "execution_count": 71,
   "metadata": {},
   "outputs": [],
   "source": [
    "user1 = UserInfo(\"홍길동\",30,\"hong@gmail.com\")\n",
    "user2 = UserInfo(\"강감찬\",25)"
   ]
  },
  {
   "cell_type": "code",
   "execution_count": 72,
   "metadata": {},
   "outputs": [
    {
     "name": "stdout",
     "output_type": "stream",
     "text": [
      "name : 홍길동, age : 30, email :hong@gmail.com\n",
      "name : 강감찬, age : 25, email :None\n"
     ]
    }
   ],
   "source": [
    "print(user1.user_info())\n",
    "print(user2.user_info())"
   ]
  },
  {
   "cell_type": "code",
   "execution_count": 73,
   "metadata": {},
   "outputs": [
    {
     "name": "stdout",
     "output_type": "stream",
     "text": [
      "10+5 =15\n",
      "10-5 =5\n",
      "10*5 =50\n",
      "10/5 =2.0\n"
     ]
    }
   ],
   "source": [
    "# 클래스명은 FourCal\n",
    "# 4개의 메소드로 구성 => hab,sub,mul,div => 결과값 리턴\n",
    "# 생성자 사용(num1,num2)\n",
    "\n",
    "class FourCal:\n",
    "    \n",
    "    def __init__(self,num1,num2):\n",
    "        self.num1=num1\n",
    "        self.num2=num2\n",
    "        \n",
    "     # 인스턴스 메소드\n",
    "    def hab(self):\n",
    "        return self.num1+self.num2\n",
    "        \n",
    "    def sub(self):\n",
    "        return self.num1-self.num2\n",
    "        \n",
    "    def mul(self):\n",
    "        return self.num1*self.num2\n",
    "    \n",
    "    def div(self):\n",
    "        return self.num1/self.num2\n",
    "\n",
    "#객체 생성 후 테스트 \n",
    "\n",
    "num1,num2 = 10 ,5\n",
    "four1 = FourCal(num1,num2)\n",
    "\n",
    "print(\"{}+{} ={}\".format(num1,num2,four1.hab()))\n",
    "print(\"{}-{} ={}\".format(num1,num2,four1.sub()))\n",
    "print(\"{}*{} ={}\".format(num1,num2,four1.mul()))\n",
    "print(\"{}/{} ={}\".format(num1,num2,four1.div()))"
   ]
  },
  {
   "cell_type": "code",
   "execution_count": 82,
   "metadata": {},
   "outputs": [],
   "source": [
    "# Account 클래스 작성\n",
    "# 생성자 (accNo,name,balance) accNo : 계좌번호, name :예금주명, balance:잔액\n",
    "#withdraw(amount) : 출금한다 기능\n",
    "# deposit(amount): 입금한다 기능\n",
    "# __str__: 현재 예금주명, 잔액 출력\n",
    "\n",
    "class Account:\n",
    "    \n",
    "    def __init__(self,accNo,name,balance):\n",
    "        self.accNo = accNo\n",
    "        self.name = name\n",
    "        self.balance = balance\n",
    "        \n",
    "    def withdraw(self,amount):\n",
    "        self.balance -= amount\n",
    "        return self.balance\n",
    "    \n",
    "    def deposit(self,amount):\n",
    "        self.balance += amount\n",
    "        return self.balance\n",
    "    \n",
    "    def __str__(self): # toString()\n",
    "        return \"{}:{}\".format(self.name,self.balance)\n",
    "       "
   ]
  },
  {
   "cell_type": "code",
   "execution_count": 84,
   "metadata": {},
   "outputs": [
    {
     "name": "stdout",
     "output_type": "stream",
     "text": [
      "홍길동:120000\n",
      "강감찬:30000\n"
     ]
    }
   ],
   "source": [
    "user1 = Account(1,\"홍길동\",100000)\n",
    "user2 = Account(2,\"강감찬\",50000)\n",
    "\n",
    "user1.deposit(20000)\n",
    "print(user1)\n",
    "\n",
    "user2.withdraw(20000)\n",
    "print(user2)\n"
   ]
  },
  {
   "cell_type": "code",
   "execution_count": 85,
   "metadata": {},
   "outputs": [
    {
     "name": "stdout",
     "output_type": "stream",
     "text": [
      "turn it on\n",
      "La La La...\n"
     ]
    }
   ],
   "source": [
    "#Audio 클래스\n",
    "#생성자(power,volume)\n",
    "#switch(on_off) : on_off 값을 넘겨받아 power 인스턴스 변수 값 변경\n",
    "#setVolume(vol) : vol 값을 넘겨받아 volume 값 변경\n",
    "#turn() :power 값이 true라면 \"La La La...\"라는 문자열 출력\n",
    "#        false 라면 \"turn it on\" 이라는 문자열 출력\n",
    "\n",
    "class Audio:\n",
    "    def __init__(self,power,volume):\n",
    "        self.power = power\n",
    "        self.volume = volume\n",
    "        \n",
    "    def switch(self,on_off):\n",
    "        self.power = on_off\n",
    "        \n",
    "    def setVolume(self,vol):\n",
    "        self.volume = vol\n",
    "        \n",
    "    def tune(self):\n",
    "        str = \"La La La...\" if self.power else \"turn it on\"\n",
    "        print(str)\n",
    "        \n",
    "#객체 생성 후 테스트\n",
    "mp3 = Audio(False,8)\n",
    "mp3.setVolume(12)\n",
    "mp3.tune()\n",
    "\n",
    "mp3.switch(True)\n",
    "mp3.tune()"
   ]
  },
  {
   "cell_type": "code",
   "execution_count": null,
   "metadata": {},
   "outputs": [],
   "source": []
  },
  {
   "cell_type": "code",
   "execution_count": 86,
   "metadata": {},
   "outputs": [],
   "source": [
    "class Parent:\n",
    "    def __init__(self):\n",
    "        self.value = \"테스트\"\n",
    "        print(\"Parent 클래스의 __init()__호출\")\n",
    "        \n",
    "    def test(self):\n",
    "        print(\"Parent 클래스의 test() 호출\")\n",
    "        \n",
    "class Child(Parent):\n",
    "    def __init__(self):\n",
    "        Parent.__init__(self)\n",
    "        print(\"Child 클래스의 __init()__호출\")"
   ]
  },
  {
   "cell_type": "code",
   "execution_count": 87,
   "metadata": {},
   "outputs": [
    {
     "name": "stdout",
     "output_type": "stream",
     "text": [
      "Parent 클래스의 __init()__호출\n",
      "Child 클래스의 __init()__호출\n",
      "Parent 클래스의 test() 호출\n",
      "테스트\n"
     ]
    }
   ],
   "source": [
    "child = Child()\n",
    "child.test()\n",
    "print(child.value)"
   ]
  },
  {
   "cell_type": "code",
   "execution_count": 93,
   "metadata": {},
   "outputs": [],
   "source": [
    "class Car:\n",
    "    speed = 0\n",
    "    \n",
    "    def upSpeed(self,value):\n",
    "        self.speed += value\n",
    "        \n",
    "    def downSpeed(self,value):\n",
    "        self.speed -= value\n",
    "\n",
    "        \n",
    "class Sedan(Car):\n",
    "    seatNum = 0\n",
    "    \n",
    "    def getSeatNum(self):\n",
    "        return self.seatNum\n",
    "    \n",
    "class Truck(Car):\n",
    "    capacity = 0\n",
    "    \n",
    "    def getCapacity(self):\n",
    "        return self.capacity\n",
    "    \n",
    "class Santafe(Sedan):\n",
    "    pass                       #실행할 코드 없음"
   ]
  },
  {
   "cell_type": "code",
   "execution_count": 94,
   "metadata": {},
   "outputs": [
    {
     "name": "stdout",
     "output_type": "stream",
     "text": [
      "승용차의 속도는 100km, 좌석수는 5개\n",
      "트럭의 속도는 80km, 총 중량은 50톤\n",
      "산타페의 속도는 120km, 좌석수는 7개\n"
     ]
    }
   ],
   "source": [
    "sedan, truck = Sedan(), Truck()\n",
    "santafe = Santafe()\n",
    "\n",
    "sedan.upSpeed(100)\n",
    "truck.upSpeed(80)\n",
    "santafe.upSpeed(120)\n",
    "\n",
    "sedan.seatNum = 5\n",
    "truck.capacity = 50\n",
    "santafe.seatNum = 7\n",
    "\n",
    "print(\"승용차의 속도는 {}km, 좌석수는 {}개\".format(sedan.speed,sedan.getSeatNum()))\n",
    "print(\"트럭의 속도는 {}km, 총 중량은 {}톤\".format(truck.speed,truck.getCapacity()))\n",
    "print(\"산타페의 속도는 {}km, 좌석수는 {}개\".format(santafe.speed,santafe.getSeatNum()))"
   ]
  },
  {
   "cell_type": "code",
   "execution_count": 99,
   "metadata": {},
   "outputs": [],
   "source": [
    "class AudioVisual:\n",
    "    def __init__(self,power,volume):\n",
    "        self.power = power\n",
    "        self.volume = volume\n",
    "        \n",
    "    def switch(self,on_off):\n",
    "        self.power = on_off\n",
    "        \n",
    "    def set_volume(self,vol):\n",
    "        self.volume = vol\n",
    "        \n",
    "class Audio(AudioVisual):\n",
    "    def __init__(self,power,volume):\n",
    "        super().__init__(power,volume)\n",
    "        \n",
    "    def tune(self):\n",
    "        str = \"La La La...\" if self.power else \"turn it on\"\n",
    "        print(str)\n",
    "        \n",
    "class TV(AudioVisual):\n",
    "    def __init__(self,power,volume,size):\n",
    "        super().__init__(power,volume)\n",
    "        self.size =size\n",
    "        \n",
    "    def watch(self):\n",
    "        str = \"have fun!!\" if self.power else \"switch on\"\n",
    "        print(str)\n",
    "        \n",
    "    \n",
    "    "
   ]
  },
  {
   "cell_type": "code",
   "execution_count": 100,
   "metadata": {},
   "outputs": [
    {
     "name": "stdout",
     "output_type": "stream",
     "text": [
      "have fun!!\n"
     ]
    }
   ],
   "source": [
    "tv = TV(False,12,40)\n",
    "tv.switch(True)\n",
    "tv.watch()"
   ]
  },
  {
   "cell_type": "code",
   "execution_count": 97,
   "metadata": {},
   "outputs": [
    {
     "name": "stdout",
     "output_type": "stream",
     "text": [
      "La La La...\n"
     ]
    }
   ],
   "source": [
    "audio = Audio(True,15)\n",
    "audio.set_volume(6)\n",
    "audio.tune()"
   ]
  },
  {
   "cell_type": "code",
   "execution_count": 101,
   "metadata": {},
   "outputs": [],
   "source": [
    "class Parent:\n",
    "    def __init__(self):\n",
    "        self.value = \"테스트\"\n",
    "        print(\"Parent 클래스의 __init()__호출\")\n",
    "        \n",
    "    def test(self):\n",
    "        print(\"Parent 클래스의 test() 호출\")\n",
    "        \n",
    "    def func(self):\n",
    "        print(\"Parent 클래스의 func() 호출\")\n",
    "        \n",
    "class Child(Parent):\n",
    "    def __init__(self):\n",
    "        Parent.__init__(self)\n",
    "        print(\"Child 클래스의 __init()__호출\")\n",
    "        \n",
    "        \n",
    "    def func(self):\n",
    "        print(\"Child 클래스의 func() 호출\")\n",
    "        \n",
    "    def func2(self):\n",
    "        print(\"Child 클래스의 func2() 호출\")"
   ]
  },
  {
   "cell_type": "code",
   "execution_count": 102,
   "metadata": {},
   "outputs": [
    {
     "name": "stdout",
     "output_type": "stream",
     "text": [
      "Parent 클래스의 __init()__호출\n",
      "Parent 클래스의 __init()__호출\n",
      "Child 클래스의 __init()__호출\n",
      "Parent 클래스의 func() 호출\n",
      "Child 클래스의 func() 호출\n",
      "Child 클래스의 func2() 호출\n"
     ]
    }
   ],
   "source": [
    "parent, child = Parent(),Child()\n",
    "parent.func()\n",
    "child.func()\n",
    "child.func2()"
   ]
  },
  {
   "cell_type": "code",
   "execution_count": 103,
   "metadata": {},
   "outputs": [],
   "source": [
    "class Car:\n",
    "    speed = 0\n",
    "    \n",
    "    def upSpeed(self,value):\n",
    "        self.speed += value\n",
    "        print(\"현재 속도(슈퍼클래스): {}\".format(self.speed))\n",
    "        \n",
    "    def downSpeed(self,value):\n",
    "        self.speed -= value\n",
    "\n",
    "        \n",
    "class Sedan(Car):\n",
    "    seatNum = 0\n",
    "    \n",
    "    def upSpeed(self,value):\n",
    "        self.speed += value\n",
    "        \n",
    "        if self.speed > 150:\n",
    "            self.speed = 150\n",
    "            print(\"현재 속도 (서브클래스) : {}\".format(self.speed))\n",
    "            \n",
    "    \n",
    "    def getSeatNum(self):\n",
    "        return self.seatNum\n",
    "    \n",
    "class Truck(Car):\n",
    "    capacity = 0\n",
    "    \n",
    "    def getCapacity(self):\n",
    "        return self.capacity\n",
    "    "
   ]
  },
  {
   "cell_type": "code",
   "execution_count": 105,
   "metadata": {},
   "outputs": [
    {
     "name": "stdout",
     "output_type": "stream",
     "text": [
      "현재 속도(슈퍼클래스): 80\n",
      "현재 속도 (서브클래스) : 150\n"
     ]
    }
   ],
   "source": [
    "sedan, truck = Sedan(), Truck()\n",
    "\n",
    "\n",
    "sedan.upSpeed(100)\n",
    "truck.upSpeed(80)\n",
    "\n",
    "\n",
    "sedan.seatNum = 5\n",
    "truck.capacity = 50\n",
    "\n",
    "\n",
    "sedan.upSpeed(200)"
   ]
  },
  {
   "cell_type": "code",
   "execution_count": null,
   "metadata": {},
   "outputs": [],
   "source": []
  },
  {
   "cell_type": "code",
   "execution_count": 113,
   "metadata": {},
   "outputs": [],
   "source": [
    "import math\n",
    "\n",
    "class Circle:\n",
    "    def __init__(self,radius):\n",
    "        self.__radius = radius # private 개념:언더바 두개\n",
    "        self.name = \"홍길동\" #self._name = name \n",
    "        \n",
    "    def get_circumference(self):\n",
    "        return 2*math.pi * self.__radius\n",
    "    \n",
    "    def get_circle_area(self):\n",
    "        return math.pi * (self.__radius ** 2)\n",
    "    \n",
    "    # __radius 의 getter,setter \n",
    "    def get_radius(self):\n",
    "        return self.__radius\n",
    "    \n",
    "    def set_radius(self,radius):\n",
    "        self.__radius = radius"
   ]
  },
  {
   "cell_type": "code",
   "execution_count": 114,
   "metadata": {},
   "outputs": [
    {
     "name": "stdout",
     "output_type": "stream",
     "text": [
      "홍길동\n",
      "__radius 10\n",
      "원의 둘레  18.84955592153876\n",
      "원의 면적  28.274333882308138\n"
     ]
    }
   ],
   "source": [
    "circle = Circle(10)\n",
    "print(circle.name)\n",
    "#print(circle.__radius) #AttributeError: 'Circle' object has no attribute '__radius'\n",
    "\n",
    "print(\"__radius\", circle.get_radius())\n",
    "\n",
    "circle.set_radius(3)\n",
    "\n",
    "print(\"원의 둘레 \", circle.get_circumference())\n",
    "print(\"원의 면적 \", circle.get_circle_area())"
   ]
  },
  {
   "cell_type": "code",
   "execution_count": null,
   "metadata": {},
   "outputs": [],
   "source": []
  },
  {
   "cell_type": "code",
   "execution_count": null,
   "metadata": {},
   "outputs": [],
   "source": []
  },
  {
   "cell_type": "code",
   "execution_count": null,
   "metadata": {},
   "outputs": [],
   "source": []
  },
  {
   "cell_type": "code",
   "execution_count": null,
   "metadata": {},
   "outputs": [],
   "source": []
  },
  {
   "cell_type": "code",
   "execution_count": null,
   "metadata": {},
   "outputs": [],
   "source": []
  },
  {
   "cell_type": "code",
   "execution_count": null,
   "metadata": {},
   "outputs": [],
   "source": []
  },
  {
   "cell_type": "code",
   "execution_count": null,
   "metadata": {},
   "outputs": [],
   "source": []
  },
  {
   "cell_type": "code",
   "execution_count": null,
   "metadata": {},
   "outputs": [],
   "source": []
  },
  {
   "cell_type": "code",
   "execution_count": null,
   "metadata": {},
   "outputs": [],
   "source": []
  },
  {
   "cell_type": "code",
   "execution_count": null,
   "metadata": {},
   "outputs": [],
   "source": []
  },
  {
   "cell_type": "code",
   "execution_count": null,
   "metadata": {},
   "outputs": [],
   "source": []
  },
  {
   "cell_type": "code",
   "execution_count": null,
   "metadata": {},
   "outputs": [],
   "source": []
  }
 ],
 "metadata": {
  "kernelspec": {
   "display_name": "Python 3",
   "language": "python",
   "name": "python3"
  },
  "language_info": {
   "codemirror_mode": {
    "name": "ipython",
    "version": 3
   },
   "file_extension": ".py",
   "mimetype": "text/x-python",
   "name": "python",
   "nbconvert_exporter": "python",
   "pygments_lexer": "ipython3",
   "version": "3.8.5"
  }
 },
 "nbformat": 4,
 "nbformat_minor": 4
}
